{
 "cells": [
  {
   "cell_type": "code",
   "execution_count": 1,
   "id": "dae5e90e-c537-4857-b881-2dff53396995",
   "metadata": {},
   "outputs": [],
   "source": [
    "import numpy as np\n",
    "import pandas as pd\n",
    "import matplotlib.pyplot as plt\n",
    "from sklearn.ensemble import RandomForestClassifier\n",
    "from sklearn.metrics import accuracy_score, confusion_matrix, precision_score, recall_score, ConfusionMatrixDisplay\n",
    "from sklearn.model_selection import RandomizedSearchCV, train_test_split\n",
    "from scipy.stats import randint\n",
    "from sklearn.datasets import make_regression"
   ]
  },
  {
   "cell_type": "code",
   "execution_count": 2,
   "id": "f62e0313-eb13-4e24-aafb-20c7213172d5",
   "metadata": {},
   "outputs": [],
   "source": [
    "train_data = pd.read_csv(\"export-fingers-data-train.csv\")\n",
    "test_data = pd.read_csv(\"export-fingers-data-test.csv\")"
   ]
  },
  {
   "cell_type": "code",
   "execution_count": 3,
   "id": "ec02b614-85be-47e1-8587-46e694bd6bd5",
   "metadata": {},
   "outputs": [
    {
     "data": {
      "text/html": [
       "<div>\n",
       "<style scoped>\n",
       "    .dataframe tbody tr th:only-of-type {\n",
       "        vertical-align: middle;\n",
       "    }\n",
       "\n",
       "    .dataframe tbody tr th {\n",
       "        vertical-align: top;\n",
       "    }\n",
       "\n",
       "    .dataframe thead th {\n",
       "        text-align: right;\n",
       "    }\n",
       "</style>\n",
       "<table border=\"1\" class=\"dataframe\">\n",
       "  <thead>\n",
       "    <tr style=\"text-align: right;\">\n",
       "      <th></th>\n",
       "      <th>path</th>\n",
       "      <th>rightHand</th>\n",
       "      <th>fingersCount</th>\n",
       "      <th>density</th>\n",
       "      <th>angle_x</th>\n",
       "      <th>angle_y</th>\n",
       "      <th>meanX</th>\n",
       "      <th>meanY</th>\n",
       "      <th>mean_middle_point</th>\n",
       "    </tr>\n",
       "  </thead>\n",
       "  <tbody>\n",
       "    <tr>\n",
       "      <th>0</th>\n",
       "      <td>../../train/00048bba-979b-4f84-b833-5bbbb082b5...</td>\n",
       "      <td>L</td>\n",
       "      <td>0</td>\n",
       "      <td>0.695632</td>\n",
       "      <td>0.152649</td>\n",
       "      <td>1.478467</td>\n",
       "      <td>0.481579</td>\n",
       "      <td>0.522134</td>\n",
       "      <td>0.252343</td>\n",
       "    </tr>\n",
       "    <tr>\n",
       "      <th>1</th>\n",
       "      <td>../../train/000547a2-d456-4b16-b351-12ca9b40e3...</td>\n",
       "      <td>L</td>\n",
       "      <td>0</td>\n",
       "      <td>0.700680</td>\n",
       "      <td>0.218669</td>\n",
       "      <td>1.448954</td>\n",
       "      <td>0.492044</td>\n",
       "      <td>0.465029</td>\n",
       "      <td>0.406306</td>\n",
       "    </tr>\n",
       "    <tr>\n",
       "      <th>2</th>\n",
       "      <td>../../train/000cac8e-fcf0-4f8c-bd16-c257d1e6d7...</td>\n",
       "      <td>L</td>\n",
       "      <td>2</td>\n",
       "      <td>0.603233</td>\n",
       "      <td>0.993863</td>\n",
       "      <td>1.605666</td>\n",
       "      <td>0.560173</td>\n",
       "      <td>0.555149</td>\n",
       "      <td>0.197985</td>\n",
       "    </tr>\n",
       "    <tr>\n",
       "      <th>3</th>\n",
       "      <td>../../train/000d9961-8136-4dee-9820-86e1787779...</td>\n",
       "      <td>L</td>\n",
       "      <td>0</td>\n",
       "      <td>0.644762</td>\n",
       "      <td>0.118490</td>\n",
       "      <td>1.451367</td>\n",
       "      <td>0.480569</td>\n",
       "      <td>0.502836</td>\n",
       "      <td>0.151306</td>\n",
       "    </tr>\n",
       "    <tr>\n",
       "      <th>4</th>\n",
       "      <td>../../train/0010095b-2e3d-4517-a511-1f688c378f...</td>\n",
       "      <td>L</td>\n",
       "      <td>5</td>\n",
       "      <td>0.365964</td>\n",
       "      <td>-0.223477</td>\n",
       "      <td>1.642960</td>\n",
       "      <td>0.535456</td>\n",
       "      <td>0.570493</td>\n",
       "      <td>0.077017</td>\n",
       "    </tr>\n",
       "  </tbody>\n",
       "</table>\n",
       "</div>"
      ],
      "text/plain": [
       "                                                path rightHand  fingersCount  \\\n",
       "0  ../../train/00048bba-979b-4f84-b833-5bbbb082b5...         L             0   \n",
       "1  ../../train/000547a2-d456-4b16-b351-12ca9b40e3...         L             0   \n",
       "2  ../../train/000cac8e-fcf0-4f8c-bd16-c257d1e6d7...         L             2   \n",
       "3  ../../train/000d9961-8136-4dee-9820-86e1787779...         L             0   \n",
       "4  ../../train/0010095b-2e3d-4517-a511-1f688c378f...         L             5   \n",
       "\n",
       "    density   angle_x   angle_y     meanX     meanY  mean_middle_point  \n",
       "0  0.695632  0.152649  1.478467  0.481579  0.522134           0.252343  \n",
       "1  0.700680  0.218669  1.448954  0.492044  0.465029           0.406306  \n",
       "2  0.603233  0.993863  1.605666  0.560173  0.555149           0.197985  \n",
       "3  0.644762  0.118490  1.451367  0.480569  0.502836           0.151306  \n",
       "4  0.365964 -0.223477  1.642960  0.535456  0.570493           0.077017  "
      ]
     },
     "execution_count": 3,
     "metadata": {},
     "output_type": "execute_result"
    }
   ],
   "source": [
    "train_data.head()"
   ]
  },
  {
   "cell_type": "code",
   "execution_count": 9,
   "id": "b1dde401-94cb-4ace-a0ca-e31a64f4723e",
   "metadata": {},
   "outputs": [],
   "source": [
    "def generate_response( hand, finger_count ):\n",
    "    return f\"{finger_count}{hand}\"\n"
   ]
  },
  {
   "cell_type": "code",
   "execution_count": 10,
   "id": "4d32dcad-87e0-46cd-a46c-f97f26f53800",
   "metadata": {},
   "outputs": [],
   "source": [
    "HAND_MAP = ['0L', '0R', '1L', '1R', '2L', '2R', '3L', '3R', '4L', '4R', '5L', '5R']"
   ]
  },
  {
   "cell_type": "code",
   "execution_count": 11,
   "id": "07a0b714-addb-45cf-a89f-5af5a18aa085",
   "metadata": {},
   "outputs": [],
   "source": [
    "# Aplicar a função às colunas 'RightHand' e 'FingersCount' e armazenar o resultado em uma nova coluna 'response'\n",
    "y_train = train_data.apply(lambda row: generate_response(row['rightHand'], row['fingersCount']), axis=1)\n",
    "y_test = test_data.apply(lambda row: generate_response(row['rightHand'], row['fingersCount']), axis=1)\n",
    "\n",
    "# Remover as primeiras 3 colunas ('path', 'RightHand', 'FingersCount')\n",
    "x_train = train_data.drop(['path', 'rightHand', 'fingersCount'], axis=1)\n",
    "x_test = test_data.drop(['path', 'rightHand', 'fingersCount'], axis=1)"
   ]
  },
  {
   "cell_type": "markdown",
   "id": "a04a44e7-1139-4c82-bfda-a0a2b6d998bd",
   "metadata": {
    "scrolled": true
   },
   "source": [
    "## Treinando modelo "
   ]
  },
  {
   "cell_type": "code",
   "execution_count": 14,
   "id": "aa1b0d82-4df9-45fe-8d8a-746c35f57b98",
   "metadata": {},
   "outputs": [],
   "source": [
    "model = RandomForestClassifier()"
   ]
  },
  {
   "cell_type": "code",
   "execution_count": 15,
   "id": "13c299e2-e100-413a-9d31-59812bed9536",
   "metadata": {},
   "outputs": [],
   "source": [
    "# help( model.fit )\n",
    "fit = model.fit( x_train, y_train )"
   ]
  },
  {
   "cell_type": "code",
   "execution_count": 16,
   "id": "33bee276-b783-4bf9-a1b1-c8294b906998",
   "metadata": {},
   "outputs": [],
   "source": [
    "y_pred = model.predict(x_test)"
   ]
  },
  {
   "cell_type": "code",
   "execution_count": 17,
   "id": "3df7b7fa-c77f-4734-ab56-a8619dc3afec",
   "metadata": {},
   "outputs": [
    {
     "name": "stdout",
     "output_type": "stream",
     "text": [
      "Accuracy: 0.9827777777777778\n"
     ]
    }
   ],
   "source": [
    "accuracy = accuracy_score(y_test, y_pred)\n",
    "print(\"Accuracy:\", accuracy)"
   ]
  },
  {
   "cell_type": "code",
   "execution_count": 18,
   "id": "0e976263-aaf7-4ca2-9267-706184de5550",
   "metadata": {},
   "outputs": [],
   "source": [
    "from sklearn.metrics import confusion_matrix, ConfusionMatrixDisplay"
   ]
  },
  {
   "cell_type": "code",
   "execution_count": 19,
   "id": "222ab549-8917-4011-9f8a-01e4a4446a24",
   "metadata": {},
   "outputs": [],
   "source": [
    "conf_matrix = confusion_matrix(y_pred, y_test)"
   ]
  },
  {
   "cell_type": "code",
   "execution_count": 20,
   "id": "5df0ff1b-578c-4007-82d7-83040157d95f",
   "metadata": {},
   "outputs": [
    {
     "data": {
      "image/png": "[encoded data removed]",
      "text/plain": [
       "<Figure size 640x480 with 2 Axes>"
      ]
     },
     "metadata": {},
     "output_type": "display_data"
    }
   ],
   "source": [
    "labels = HAND_MAP\n",
    "\n",
    "disp = ConfusionMatrixDisplay(\n",
    "    confusion_matrix = conf_matrix, \n",
    "    display_labels = labels)\n",
    "disp.plot()\n",
    "plt.title(\"Matrix de confusão da predição do número de dedos e da mão\")\n",
    "plt.show()"
   ]
  },
  {
   "cell_type": "code",
   "execution_count": null,
   "id": "9bca9775-4f2f-4d2e-bc14-2a4d66014d53",
   "metadata": {},
   "outputs": [],
   "source": [
    "#input = [0.4409681227863046,-0.15037142800713454,1.6871514920017714,0.5405392614227955,0.553504059528156,24.731013035526484]\n",
    "input = [0.3900642368384304, 0.0964737751825869, 1.3258176636680326, 0.49802775228195956, 0.5780498826891358, 49.745486907031996]\n",
    "resp = model.predict([input])\n",
    "\n",
    "print( HAND_MAP[ resp[0] ] )"
   ]
  },
  {
   "cell_type": "markdown",
   "id": "f8046a73-91f8-4b1e-bf82-de0ad30fb7a8",
   "metadata": {},
   "source": [
    "## Salvando modelo"
   ]
  },
  {
   "cell_type": "code",
   "execution_count": 22,
   "id": "341808e3-6fa8-4050-8dff-8073eed59464",
   "metadata": {},
   "outputs": [],
   "source": [
    "import pickle"
   ]
  },
  {
   "cell_type": "code",
   "execution_count": 24,
   "id": "00b7069f-64a1-4e04-a80e-ce6f01477f2f",
   "metadata": {},
   "outputs": [],
   "source": [
    "with open('model_randomForest.pkl','wb') as f:\n",
    "    pickle.dump(model,f)"
   ]
  }
 ],
 "metadata": {
  "kernelspec": {
   "display_name": "Python 3 (ipykernel)",
   "language": "python",
   "name": "python3"
  },
  "language_info": {
   "codemirror_mode": {
    "name": "ipython",
    "version": 3
   },
   "file_extension": ".py",
   "mimetype": "text/x-python",
   "name": "python",
   "nbconvert_exporter": "python",
   "pygments_lexer": "ipython3",
   "version": "3.10.5"
  }
 },
 "nbformat": 4,
 "nbformat_minor": 5
}
