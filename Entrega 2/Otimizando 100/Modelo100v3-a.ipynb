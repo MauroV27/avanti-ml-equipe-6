{
  "cells": [
    {
      "cell_type": "markdown",
      "id": "0637b4e5-b63a-4021-b442-65fcbc6a66bd",
      "metadata": {
        "id": "0637b4e5-b63a-4021-b442-65fcbc6a66bd"
      },
      "source": [
        "# Modificação do código de 100% de acurácia\n",
        "\n",
        "O código abaixo foi feito seguindo o modelo proposto em https://www.kaggle.com/code/muki2003/count-finger-accurancy-100/notebook"
      ]
    },
    {
      "cell_type": "code",
      "source": [
        "pip install opendatasets"
      ],
      "metadata": {
        "colab": {
          "base_uri": "https://localhost:8080/"
        },
        "id": "8jQBtVNo8EdC",
        "outputId": "2a2bf415-1911-4ceb-b394-ed8de77804a6"
      },
      "id": "8jQBtVNo8EdC",
      "execution_count": 3,
      "outputs": [
        {
          "output_type": "stream",
          "name": "stdout",
          "text": [
            "Collecting opendatasets\n",
            "  Downloading opendatasets-0.1.22-py3-none-any.whl (15 kB)\n",
            "Requirement already satisfied: tqdm in /usr/local/lib/python3.10/dist-packages (from opendatasets) (4.66.4)\n",
            "Requirement already satisfied: kaggle in /usr/local/lib/python3.10/dist-packages (from opendatasets) (1.6.12)\n",
            "Requirement already satisfied: click in /usr/local/lib/python3.10/dist-packages (from opendatasets) (8.1.7)\n",
            "Requirement already satisfied: six>=1.10 in /usr/local/lib/python3.10/dist-packages (from kaggle->opendatasets) (1.16.0)\n",
            "Requirement already satisfied: certifi>=2023.7.22 in /usr/local/lib/python3.10/dist-packages (from kaggle->opendatasets) (2024.2.2)\n",
            "Requirement already satisfied: python-dateutil in /usr/local/lib/python3.10/dist-packages (from kaggle->opendatasets) (2.8.2)\n",
            "Requirement already satisfied: requests in /usr/local/lib/python3.10/dist-packages (from kaggle->opendatasets) (2.31.0)\n",
            "Requirement already satisfied: python-slugify in /usr/local/lib/python3.10/dist-packages (from kaggle->opendatasets) (8.0.4)\n",
            "Requirement already satisfied: urllib3 in /usr/local/lib/python3.10/dist-packages (from kaggle->opendatasets) (2.0.7)\n",
            "Requirement already satisfied: bleach in /usr/local/lib/python3.10/dist-packages (from kaggle->opendatasets) (6.1.0)\n",
            "Requirement already satisfied: webencodings in /usr/local/lib/python3.10/dist-packages (from bleach->kaggle->opendatasets) (0.5.1)\n",
            "Requirement already satisfied: text-unidecode>=1.3 in /usr/local/lib/python3.10/dist-packages (from python-slugify->kaggle->opendatasets) (1.3)\n",
            "Requirement already satisfied: charset-normalizer<4,>=2 in /usr/local/lib/python3.10/dist-packages (from requests->kaggle->opendatasets) (3.3.2)\n",
            "Requirement already satisfied: idna<4,>=2.5 in /usr/local/lib/python3.10/dist-packages (from requests->kaggle->opendatasets) (3.7)\n",
            "Installing collected packages: opendatasets\n",
            "Successfully installed opendatasets-0.1.22\n"
          ]
        }
      ]
    },
    {
      "cell_type": "code",
      "execution_count": 1,
      "id": "e0ed9e34-802c-44b1-9590-60805797d4f6",
      "metadata": {
        "id": "e0ed9e34-802c-44b1-9590-60805797d4f6"
      },
      "outputs": [],
      "source": [
        "import numpy as np\n",
        "import pandas as pd\n",
        "import tensorflow as tf\n",
        "from tensorflow import keras\n",
        "from tensorflow.keras.layers import Dense, Activation\n",
        "from tensorflow.keras.optimizers import Adam\n",
        "from tensorflow.keras.metrics import categorical_crossentropy\n",
        "from tensorflow.keras.preprocessing.image import ImageDataGenerator\n",
        "from tensorflow.keras.preprocessing import image\n",
        "from tensorflow.keras.models import Model\n",
        "from tensorflow.keras.applications import imagenet_utils\n",
        "import os\n",
        "import random\n",
        "import matplotlib.pyplot as plt"
      ]
    },
    {
      "cell_type": "code",
      "source": [
        "import opendatasets as od"
      ],
      "metadata": {
        "id": "d-p3UNiA8Nf_"
      },
      "id": "d-p3UNiA8Nf_",
      "execution_count": 4,
      "outputs": []
    },
    {
      "cell_type": "code",
      "execution_count": 89,
      "id": "c9f8b03b-c310-4b20-937d-26ca367d257e",
      "metadata": {
        "id": "c9f8b03b-c310-4b20-937d-26ca367d257e",
        "colab": {
          "base_uri": "https://localhost:8080/"
        },
        "outputId": "eb93e66c-27cb-41c2-d05f-4f35833d5dc3"
      },
      "outputs": [
        {
          "output_type": "stream",
          "name": "stdout",
          "text": [
            "Skipping, found downloaded files in \"./fingers\" (use force=True to force download)\n"
          ]
        }
      ],
      "source": [
        "od.download(\"https://www.kaggle.com/datasets/koryakinp/fingers\")"
      ]
    },
    {
      "cell_type": "code",
      "source": [
        "trainpath = os.listdir(\"fingers/train\")\n",
        "testpath = os.listdir(\"fingers/test\")"
      ],
      "metadata": {
        "id": "JPum4Pt38lay"
      },
      "id": "JPum4Pt38lay",
      "execution_count": 90,
      "outputs": []
    },
    {
      "cell_type": "code",
      "source": [
        "# Amostragem do dataset em 10%\n",
        "# trainpath = trainpath[ :int(len(trainpath) * 0.1) ]\n",
        "# testpath = testpath[ :int(len(testpath) * 0.1) ]"
      ],
      "metadata": {
        "id": "UfPB8yyZU2sA"
      },
      "id": "UfPB8yyZU2sA",
      "execution_count": 69,
      "outputs": []
    },
    {
      "cell_type": "code",
      "execution_count": 91,
      "id": "55379826-b5f4-47db-b414-1e5b9dbf8a00",
      "metadata": {
        "id": "55379826-b5f4-47db-b414-1e5b9dbf8a00"
      },
      "outputs": [],
      "source": [
        "traindata = ['fingers/train/' + i for i in trainpath]\n",
        "testdata = [\"fingers/test/\" + i for i in testpath]"
      ]
    },
    {
      "cell_type": "markdown",
      "source": [
        "- Visualização do tamanho dos conjuntos de treino e teste"
      ],
      "metadata": {
        "id": "hlf9CCYmoXUb"
      },
      "id": "hlf9CCYmoXUb"
    },
    {
      "cell_type": "code",
      "execution_count": 92,
      "id": "d1c32e97-2b55-484f-93a4-cd60950c3d9e",
      "metadata": {
        "scrolled": true,
        "id": "d1c32e97-2b55-484f-93a4-cd60950c3d9e",
        "outputId": "b90959f1-e02d-485d-c765-507d819f7456",
        "colab": {
          "base_uri": "https://localhost:8080/"
        }
      },
      "outputs": [
        {
          "output_type": "stream",
          "name": "stdout",
          "text": [
            "Tamanho treinamento: 18000\n",
            "Tamanho teste: 3600\n"
          ]
        }
      ],
      "source": [
        "print(\"Tamanho treinamento:\", len(traindata))\n",
        "print(\"Tamanho teste:\", len(testdata))"
      ]
    },
    {
      "cell_type": "markdown",
      "source": [
        "- Criação dos DataFrames de treino e teste com a coluna Filepath, que representa a imagem"
      ],
      "metadata": {
        "id": "kkeuQOo8ogVO"
      },
      "id": "kkeuQOo8ogVO"
    },
    {
      "cell_type": "code",
      "execution_count": 93,
      "id": "905dc9f1-4499-44d1-8d7f-83c5c7e3e40a",
      "metadata": {
        "id": "905dc9f1-4499-44d1-8d7f-83c5c7e3e40a"
      },
      "outputs": [],
      "source": [
        "traindata = pd.DataFrame(traindata, columns=['Filepath'])\n",
        "testdata = pd.DataFrame(testdata, columns=['Filepath'])"
      ]
    },
    {
      "cell_type": "markdown",
      "source": [
        "- Adição da coluna target aos DataFrames de treino e teste, que contém os labels das imagens, que nesse caso representa o número de dedos da imagem correspondente"
      ],
      "metadata": {
        "id": "Qn-R1ZyAopMm"
      },
      "id": "Qn-R1ZyAopMm"
    },
    {
      "cell_type": "code",
      "source": [
        "traindata['target'] = traindata['Filepath'].apply(lambda a: a[-6:-5])\n",
        "testdata['target'] = testdata['Filepath'].apply(lambda a: a[-6:-5])"
      ],
      "metadata": {
        "id": "Lz90VuO9-47g"
      },
      "id": "Lz90VuO9-47g",
      "execution_count": 94,
      "outputs": []
    },
    {
      "cell_type": "markdown",
      "source": [
        "- Visualização do conjunto de treino"
      ],
      "metadata": {
        "id": "r85nNLyNo2CK"
      },
      "id": "r85nNLyNo2CK"
    },
    {
      "cell_type": "code",
      "execution_count": 95,
      "id": "b1989c09-4f1e-492d-bd32-f77e36c90810",
      "metadata": {
        "id": "b1989c09-4f1e-492d-bd32-f77e36c90810",
        "outputId": "a0a42746-49aa-4d30-ea43-037cceeb6627",
        "colab": {
          "base_uri": "https://localhost:8080/",
          "height": 424
        }
      },
      "outputs": [
        {
          "output_type": "execute_result",
          "data": {
            "text/plain": [
              "                                                Filepath target\n",
              "0      fingers/train/a8eb25cf-8f87-44f3-831b-7d7cf2db...      2\n",
              "1      fingers/train/7f8b62a5-ebd4-4288-a29f-5396d052...      0\n",
              "2      fingers/train/2c6c55d6-82dc-4277-bbf6-9f65be19...      5\n",
              "3      fingers/train/2053a44d-39f8-4d5d-98c9-4270db1a...      1\n",
              "4      fingers/train/e264adab-9188-4ff8-b5e2-58bafcde...      5\n",
              "...                                                  ...    ...\n",
              "17995  fingers/train/71e6fbde-b41d-4454-9c3a-64b3938e...      1\n",
              "17996  fingers/train/c4565914-ebed-42d3-959b-edcd6ac4...      1\n",
              "17997  fingers/train/85d68a3a-84fc-4ebf-a1a2-f23f8b9b...      5\n",
              "17998  fingers/train/45795156-6886-43b8-9dd5-a6f636ba...      1\n",
              "17999  fingers/train/5357f1f0-eaa9-403a-a53c-2dbd6072...      0\n",
              "\n",
              "[18000 rows x 2 columns]"
            ],
            "text/html": [
              "\n",
              "  <div id=\"df-fd1c995c-4ca2-4a96-9c91-59a3776994e1\" class=\"colab-df-container\">\n",
              "    <div>\n",
              "<style scoped>\n",
              "    .dataframe tbody tr th:only-of-type {\n",
              "        vertical-align: middle;\n",
              "    }\n",
              "\n",
              "    .dataframe tbody tr th {\n",
              "        vertical-align: top;\n",
              "    }\n",
              "\n",
              "    .dataframe thead th {\n",
              "        text-align: right;\n",
              "    }\n",
              "</style>\n",
              "<table border=\"1\" class=\"dataframe\">\n",
              "  <thead>\n",
              "    <tr style=\"text-align: right;\">\n",
              "      <th></th>\n",
              "      <th>Filepath</th>\n",
              "      <th>target</th>\n",
              "    </tr>\n",
              "  </thead>\n",
              "  <tbody>\n",
              "    <tr>\n",
              "      <th>0</th>\n",
              "      <td>fingers/train/a8eb25cf-8f87-44f3-831b-7d7cf2db...</td>\n",
              "      <td>2</td>\n",
              "    </tr>\n",
              "    <tr>\n",
              "      <th>1</th>\n",
              "      <td>fingers/train/7f8b62a5-ebd4-4288-a29f-5396d052...</td>\n",
              "      <td>0</td>\n",
              "    </tr>\n",
              "    <tr>\n",
              "      <th>2</th>\n",
              "      <td>fingers/train/2c6c55d6-82dc-4277-bbf6-9f65be19...</td>\n",
              "      <td>5</td>\n",
              "    </tr>\n",
              "    <tr>\n",
              "      <th>3</th>\n",
              "      <td>fingers/train/2053a44d-39f8-4d5d-98c9-4270db1a...</td>\n",
              "      <td>1</td>\n",
              "    </tr>\n",
              "    <tr>\n",
              "      <th>4</th>\n",
              "      <td>fingers/train/e264adab-9188-4ff8-b5e2-58bafcde...</td>\n",
              "      <td>5</td>\n",
              "    </tr>\n",
              "    <tr>\n",
              "      <th>...</th>\n",
              "      <td>...</td>\n",
              "      <td>...</td>\n",
              "    </tr>\n",
              "    <tr>\n",
              "      <th>17995</th>\n",
              "      <td>fingers/train/71e6fbde-b41d-4454-9c3a-64b3938e...</td>\n",
              "      <td>1</td>\n",
              "    </tr>\n",
              "    <tr>\n",
              "      <th>17996</th>\n",
              "      <td>fingers/train/c4565914-ebed-42d3-959b-edcd6ac4...</td>\n",
              "      <td>1</td>\n",
              "    </tr>\n",
              "    <tr>\n",
              "      <th>17997</th>\n",
              "      <td>fingers/train/85d68a3a-84fc-4ebf-a1a2-f23f8b9b...</td>\n",
              "      <td>5</td>\n",
              "    </tr>\n",
              "    <tr>\n",
              "      <th>17998</th>\n",
              "      <td>fingers/train/45795156-6886-43b8-9dd5-a6f636ba...</td>\n",
              "      <td>1</td>\n",
              "    </tr>\n",
              "    <tr>\n",
              "      <th>17999</th>\n",
              "      <td>fingers/train/5357f1f0-eaa9-403a-a53c-2dbd6072...</td>\n",
              "      <td>0</td>\n",
              "    </tr>\n",
              "  </tbody>\n",
              "</table>\n",
              "<p>18000 rows × 2 columns</p>\n",
              "</div>\n",
              "    <div class=\"colab-df-buttons\">\n",
              "\n",
              "  <div class=\"colab-df-container\">\n",
              "    <button class=\"colab-df-convert\" onclick=\"convertToInteractive('df-fd1c995c-4ca2-4a96-9c91-59a3776994e1')\"\n",
              "            title=\"Convert this dataframe to an interactive table.\"\n",
              "            style=\"display:none;\">\n",
              "\n",
              "  <svg xmlns=\"http://www.w3.org/2000/svg\" height=\"24px\" viewBox=\"0 -960 960 960\">\n",
              "    <path d=\"M120-120v-720h720v720H120Zm60-500h600v-160H180v160Zm220 220h160v-160H400v160Zm0 220h160v-160H400v160ZM180-400h160v-160H180v160Zm440 0h160v-160H620v160ZM180-180h160v-160H180v160Zm440 0h160v-160H620v160Z\"/>\n",
              "  </svg>\n",
              "    </button>\n",
              "\n",
              "  <style>\n",
              "    .colab-df-container {\n",
              "      display:flex;\n",
              "      gap: 12px;\n",
              "    }\n",
              "\n",
              "    .colab-df-convert {\n",
              "      background-color: #E8F0FE;\n",
              "      border: none;\n",
              "      border-radius: 50%;\n",
              "      cursor: pointer;\n",
              "      display: none;\n",
              "      fill: #1967D2;\n",
              "      height: 32px;\n",
              "      padding: 0 0 0 0;\n",
              "      width: 32px;\n",
              "    }\n",
              "\n",
              "    .colab-df-convert:hover {\n",
              "      background-color: #E2EBFA;\n",
              "      box-shadow: 0px 1px 2px rgba(60, 64, 67, 0.3), 0px 1px 3px 1px rgba(60, 64, 67, 0.15);\n",
              "      fill: #174EA6;\n",
              "    }\n",
              "\n",
              "    .colab-df-buttons div {\n",
              "      margin-bottom: 4px;\n",
              "    }\n",
              "\n",
              "    [theme=dark] .colab-df-convert {\n",
              "      background-color: #3B4455;\n",
              "      fill: #D2E3FC;\n",
              "    }\n",
              "\n",
              "    [theme=dark] .colab-df-convert:hover {\n",
              "      background-color: #434B5C;\n",
              "      box-shadow: 0px 1px 3px 1px rgba(0, 0, 0, 0.15);\n",
              "      filter: drop-shadow(0px 1px 2px rgba(0, 0, 0, 0.3));\n",
              "      fill: #FFFFFF;\n",
              "    }\n",
              "  </style>\n",
              "\n",
              "    <script>\n",
              "      const buttonEl =\n",
              "        document.querySelector('#df-fd1c995c-4ca2-4a96-9c91-59a3776994e1 button.colab-df-convert');\n",
              "      buttonEl.style.display =\n",
              "        google.colab.kernel.accessAllowed ? 'block' : 'none';\n",
              "\n",
              "      async function convertToInteractive(key) {\n",
              "        const element = document.querySelector('#df-fd1c995c-4ca2-4a96-9c91-59a3776994e1');\n",
              "        const dataTable =\n",
              "          await google.colab.kernel.invokeFunction('convertToInteractive',\n",
              "                                                    [key], {});\n",
              "        if (!dataTable) return;\n",
              "\n",
              "        const docLinkHtml = 'Like what you see? Visit the ' +\n",
              "          '<a target=\"_blank\" href=https://colab.research.google.com/notebooks/data_table.ipynb>data table notebook</a>'\n",
              "          + ' to learn more about interactive tables.';\n",
              "        element.innerHTML = '';\n",
              "        dataTable['output_type'] = 'display_data';\n",
              "        await google.colab.output.renderOutput(dataTable, element);\n",
              "        const docLink = document.createElement('div');\n",
              "        docLink.innerHTML = docLinkHtml;\n",
              "        element.appendChild(docLink);\n",
              "      }\n",
              "    </script>\n",
              "  </div>\n",
              "\n",
              "\n",
              "<div id=\"df-d461d70b-5256-4a13-82a5-af8034b8651e\">\n",
              "  <button class=\"colab-df-quickchart\" onclick=\"quickchart('df-d461d70b-5256-4a13-82a5-af8034b8651e')\"\n",
              "            title=\"Suggest charts\"\n",
              "            style=\"display:none;\">\n",
              "\n",
              "<svg xmlns=\"http://www.w3.org/2000/svg\" height=\"24px\"viewBox=\"0 0 24 24\"\n",
              "     width=\"24px\">\n",
              "    <g>\n",
              "        <path d=\"M19 3H5c-1.1 0-2 .9-2 2v14c0 1.1.9 2 2 2h14c1.1 0 2-.9 2-2V5c0-1.1-.9-2-2-2zM9 17H7v-7h2v7zm4 0h-2V7h2v10zm4 0h-2v-4h2v4z\"/>\n",
              "    </g>\n",
              "</svg>\n",
              "  </button>\n",
              "\n",
              "<style>\n",
              "  .colab-df-quickchart {\n",
              "      --bg-color: #E8F0FE;\n",
              "      --fill-color: #1967D2;\n",
              "      --hover-bg-color: #E2EBFA;\n",
              "      --hover-fill-color: #174EA6;\n",
              "      --disabled-fill-color: #AAA;\n",
              "      --disabled-bg-color: #DDD;\n",
              "  }\n",
              "\n",
              "  [theme=dark] .colab-df-quickchart {\n",
              "      --bg-color: #3B4455;\n",
              "      --fill-color: #D2E3FC;\n",
              "      --hover-bg-color: #434B5C;\n",
              "      --hover-fill-color: #FFFFFF;\n",
              "      --disabled-bg-color: #3B4455;\n",
              "      --disabled-fill-color: #666;\n",
              "  }\n",
              "\n",
              "  .colab-df-quickchart {\n",
              "    background-color: var(--bg-color);\n",
              "    border: none;\n",
              "    border-radius: 50%;\n",
              "    cursor: pointer;\n",
              "    display: none;\n",
              "    fill: var(--fill-color);\n",
              "    height: 32px;\n",
              "    padding: 0;\n",
              "    width: 32px;\n",
              "  }\n",
              "\n",
              "  .colab-df-quickchart:hover {\n",
              "    background-color: var(--hover-bg-color);\n",
              "    box-shadow: 0 1px 2px rgba(60, 64, 67, 0.3), 0 1px 3px 1px rgba(60, 64, 67, 0.15);\n",
              "    fill: var(--button-hover-fill-color);\n",
              "  }\n",
              "\n",
              "  .colab-df-quickchart-complete:disabled,\n",
              "  .colab-df-quickchart-complete:disabled:hover {\n",
              "    background-color: var(--disabled-bg-color);\n",
              "    fill: var(--disabled-fill-color);\n",
              "    box-shadow: none;\n",
              "  }\n",
              "\n",
              "  .colab-df-spinner {\n",
              "    border: 2px solid var(--fill-color);\n",
              "    border-color: transparent;\n",
              "    border-bottom-color: var(--fill-color);\n",
              "    animation:\n",
              "      spin 1s steps(1) infinite;\n",
              "  }\n",
              "\n",
              "  @keyframes spin {\n",
              "    0% {\n",
              "      border-color: transparent;\n",
              "      border-bottom-color: var(--fill-color);\n",
              "      border-left-color: var(--fill-color);\n",
              "    }\n",
              "    20% {\n",
              "      border-color: transparent;\n",
              "      border-left-color: var(--fill-color);\n",
              "      border-top-color: var(--fill-color);\n",
              "    }\n",
              "    30% {\n",
              "      border-color: transparent;\n",
              "      border-left-color: var(--fill-color);\n",
              "      border-top-color: var(--fill-color);\n",
              "      border-right-color: var(--fill-color);\n",
              "    }\n",
              "    40% {\n",
              "      border-color: transparent;\n",
              "      border-right-color: var(--fill-color);\n",
              "      border-top-color: var(--fill-color);\n",
              "    }\n",
              "    60% {\n",
              "      border-color: transparent;\n",
              "      border-right-color: var(--fill-color);\n",
              "    }\n",
              "    80% {\n",
              "      border-color: transparent;\n",
              "      border-right-color: var(--fill-color);\n",
              "      border-bottom-color: var(--fill-color);\n",
              "    }\n",
              "    90% {\n",
              "      border-color: transparent;\n",
              "      border-bottom-color: var(--fill-color);\n",
              "    }\n",
              "  }\n",
              "</style>\n",
              "\n",
              "  <script>\n",
              "    async function quickchart(key) {\n",
              "      const quickchartButtonEl =\n",
              "        document.querySelector('#' + key + ' button');\n",
              "      quickchartButtonEl.disabled = true;  // To prevent multiple clicks.\n",
              "      quickchartButtonEl.classList.add('colab-df-spinner');\n",
              "      try {\n",
              "        const charts = await google.colab.kernel.invokeFunction(\n",
              "            'suggestCharts', [key], {});\n",
              "      } catch (error) {\n",
              "        console.error('Error during call to suggestCharts:', error);\n",
              "      }\n",
              "      quickchartButtonEl.classList.remove('colab-df-spinner');\n",
              "      quickchartButtonEl.classList.add('colab-df-quickchart-complete');\n",
              "    }\n",
              "    (() => {\n",
              "      let quickchartButtonEl =\n",
              "        document.querySelector('#df-d461d70b-5256-4a13-82a5-af8034b8651e button');\n",
              "      quickchartButtonEl.style.display =\n",
              "        google.colab.kernel.accessAllowed ? 'block' : 'none';\n",
              "    })();\n",
              "  </script>\n",
              "</div>\n",
              "\n",
              "  <div id=\"id_ccbcda41-01f9-412b-ae6c-90cd81abb8ca\">\n",
              "    <style>\n",
              "      .colab-df-generate {\n",
              "        background-color: #E8F0FE;\n",
              "        border: none;\n",
              "        border-radius: 50%;\n",
              "        cursor: pointer;\n",
              "        display: none;\n",
              "        fill: #1967D2;\n",
              "        height: 32px;\n",
              "        padding: 0 0 0 0;\n",
              "        width: 32px;\n",
              "      }\n",
              "\n",
              "      .colab-df-generate:hover {\n",
              "        background-color: #E2EBFA;\n",
              "        box-shadow: 0px 1px 2px rgba(60, 64, 67, 0.3), 0px 1px 3px 1px rgba(60, 64, 67, 0.15);\n",
              "        fill: #174EA6;\n",
              "      }\n",
              "\n",
              "      [theme=dark] .colab-df-generate {\n",
              "        background-color: #3B4455;\n",
              "        fill: #D2E3FC;\n",
              "      }\n",
              "\n",
              "      [theme=dark] .colab-df-generate:hover {\n",
              "        background-color: #434B5C;\n",
              "        box-shadow: 0px 1px 3px 1px rgba(0, 0, 0, 0.15);\n",
              "        filter: drop-shadow(0px 1px 2px rgba(0, 0, 0, 0.3));\n",
              "        fill: #FFFFFF;\n",
              "      }\n",
              "    </style>\n",
              "    <button class=\"colab-df-generate\" onclick=\"generateWithVariable('traindata')\"\n",
              "            title=\"Generate code using this dataframe.\"\n",
              "            style=\"display:none;\">\n",
              "\n",
              "  <svg xmlns=\"http://www.w3.org/2000/svg\" height=\"24px\"viewBox=\"0 0 24 24\"\n",
              "       width=\"24px\">\n",
              "    <path d=\"M7,19H8.4L18.45,9,17,7.55,7,17.6ZM5,21V16.75L18.45,3.32a2,2,0,0,1,2.83,0l1.4,1.43a1.91,1.91,0,0,1,.58,1.4,1.91,1.91,0,0,1-.58,1.4L9.25,21ZM18.45,9,17,7.55Zm-12,3A5.31,5.31,0,0,0,4.9,8.1,5.31,5.31,0,0,0,1,6.5,5.31,5.31,0,0,0,4.9,4.9,5.31,5.31,0,0,0,6.5,1,5.31,5.31,0,0,0,8.1,4.9,5.31,5.31,0,0,0,12,6.5,5.46,5.46,0,0,0,6.5,12Z\"/>\n",
              "  </svg>\n",
              "    </button>\n",
              "    <script>\n",
              "      (() => {\n",
              "      const buttonEl =\n",
              "        document.querySelector('#id_ccbcda41-01f9-412b-ae6c-90cd81abb8ca button.colab-df-generate');\n",
              "      buttonEl.style.display =\n",
              "        google.colab.kernel.accessAllowed ? 'block' : 'none';\n",
              "\n",
              "      buttonEl.onclick = () => {\n",
              "        google.colab.notebook.generateWithVariable('traindata');\n",
              "      }\n",
              "      })();\n",
              "    </script>\n",
              "  </div>\n",
              "\n",
              "    </div>\n",
              "  </div>\n"
            ],
            "application/vnd.google.colaboratory.intrinsic+json": {
              "type": "dataframe",
              "variable_name": "traindata",
              "summary": "{\n  \"name\": \"traindata\",\n  \"rows\": 18000,\n  \"fields\": [\n    {\n      \"column\": \"Filepath\",\n      \"properties\": {\n        \"dtype\": \"string\",\n        \"num_unique_values\": 18000,\n        \"samples\": [\n          \"fingers/train/2bc5f397-8edb-4f91-980b-22179037f31f_4L.png\",\n          \"fingers/train/3a098fe1-3c88-4818-a63e-08aec1cd9495_3L.png\",\n          \"fingers/train/51de9edc-3f38-4448-b622-80302de71542_1L.png\"\n        ],\n        \"semantic_type\": \"\",\n        \"description\": \"\"\n      }\n    },\n    {\n      \"column\": \"target\",\n      \"properties\": {\n        \"dtype\": \"category\",\n        \"num_unique_values\": 6,\n        \"samples\": [\n          \"2\",\n          \"0\",\n          \"3\"\n        ],\n        \"semantic_type\": \"\",\n        \"description\": \"\"\n      }\n    }\n  ]\n}"
            }
          },
          "metadata": {},
          "execution_count": 95
        }
      ],
      "source": [
        "traindata"
      ]
    },
    {
      "cell_type": "markdown",
      "source": [
        "- Pré-processamento, como normalização de pixels e dimensionamento, para garantir que as imagens estejam no formato esperado pelo modelo. Além disso, estamos dividindo o conjunto de dados em 90% para treinamento e 10% para validação."
      ],
      "metadata": {
        "id": "wfNYixrpo6-6"
      },
      "id": "wfNYixrpo6-6"
    },
    {
      "cell_type": "code",
      "execution_count": 96,
      "id": "a7b6a458-4243-4fe6-a508-caa1f4bd1b7a",
      "metadata": {
        "id": "a7b6a458-4243-4fe6-a508-caa1f4bd1b7a"
      },
      "outputs": [],
      "source": [
        "ds_generator = ImageDataGenerator(preprocessing_function=tf.keras.applications.efficientnet.preprocess_input,validation_split=0.2)"
      ]
    },
    {
      "cell_type": "markdown",
      "source": [
        "- Criação de geradores de dados de imagem para treinamento, validação e teste, e especificação de várias configurações, como tamanho do lote, tamanho da imagem e modo de cor"
      ],
      "metadata": {
        "id": "9mT1nA_Mo9hl"
      },
      "id": "9mT1nA_Mo9hl"
    },
    {
      "cell_type": "code",
      "execution_count": 97,
      "id": "fa242edc-4e50-4e3a-b708-a539228538b9",
      "metadata": {
        "id": "fa242edc-4e50-4e3a-b708-a539228538b9",
        "outputId": "dc6d65bf-4659-4a61-9653-edbe7c2a3b50",
        "colab": {
          "base_uri": "https://localhost:8080/"
        }
      },
      "outputs": [
        {
          "output_type": "stream",
          "name": "stdout",
          "text": [
            "Found 14400 validated image filenames belonging to 6 classes.\n",
            "Found 3600 validated image filenames belonging to 6 classes.\n",
            "Found 3600 validated image filenames belonging to 6 classes.\n"
          ]
        }
      ],
      "source": [
        "# informa imagens, labels, faz o redimensionamento das imagens\n",
        "train_ds = ds_generator.flow_from_dataframe(dataframe=traindata,x_col='Filepath',y_col='target',target_size=(224, 224),color_mode='rgb',class_mode='categorical',batch_size=16,subset='training')\n",
        "val_ds = ds_generator.flow_from_dataframe(dataframe=traindata,x_col='Filepath',y_col='target',target_size=(224, 224),color_mode='rgb',class_mode='categorical',batch_size=16,subset='validation')\n",
        "test_ds = ds_generator.flow_from_dataframe(dataframe=testdata,x_col='Filepath',y_col='target',target_size=(224, 224),color_mode='rgb',class_mode='categorical',batch_size=16)"
      ]
    },
    {
      "cell_type": "markdown",
      "source": [
        "- Biblioteca para o modelo utilizado: EfficienteNet, na versão B0"
      ],
      "metadata": {
        "id": "HMpIq6_gpKCf"
      },
      "id": "HMpIq6_gpKCf"
    },
    {
      "cell_type": "code",
      "source": [
        "from tensorflow.keras.applications import EfficientNetB0  # Use a versão B0\n"
      ],
      "metadata": {
        "id": "VP1zFty8Krlj"
      },
      "id": "VP1zFty8Krlj",
      "execution_count": 98,
      "outputs": []
    },
    {
      "cell_type": "markdown",
      "source": [
        "- Criação do modelo EfficientNetB0 pré-treinado com pesos do ImageNet e congelamento todas as suas camadas para que não sejam atualizadas durante o treinamento"
      ],
      "metadata": {
        "id": "_DrsyS29q3qj"
      },
      "id": "_DrsyS29q3qj"
    },
    {
      "cell_type": "code",
      "source": [
        "num_classes = 6  # Número de classes para a sua tarefa\n",
        "efficientnet = EfficientNetB0(weights='imagenet', input_shape=(224, 224, 3), include_top=False)\n",
        "# Congelar as camadas do modelo base\n",
        "for layer in efficientnet.layers:\n",
        "    layer.trainable = False"
      ],
      "metadata": {
        "id": "kiIU9IxSKzUZ"
      },
      "id": "kiIU9IxSKzUZ",
      "execution_count": 99,
      "outputs": []
    },
    {
      "cell_type": "markdown",
      "source": [
        "- Adição de camadas adicionais ao final do EfficientNet para personalizar o modelo de acordo com a sua tarefa específica de classificação de imagens de mãos. Essas camadas adicionais ajudam a extrair características mais específicas."
      ],
      "metadata": {
        "id": "wRHh9844rfLF"
      },
      "id": "wRHh9844rfLF"
    },
    {
      "cell_type": "code",
      "source": [
        "from tensorflow.keras.layers import GlobalAveragePooling2D, Dense\n",
        "\n",
        "# Adicionando Global Average Pooling ao final do EfficientNet\n",
        "x = GlobalAveragePooling2D()(efficientnet.output)\n",
        "\n",
        "# Adicionando uma camada Dense com ativação softmax para a saída do modelo\n",
        "output = Dense(num_classes, activation='softmax')(x)\n",
        "\n",
        "# Adicionando camadas Dense adicionais\n",
        "x = Dense(64, activation='relu')(x)\n",
        "x = Dense(64, activation='relu')(x)\n",
        "\n",
        "# Conectando a saída das camadas Dense adicionais à saída do modelo\n",
        "output = Dense(num_classes, activation='softmax')(x)\n",
        "\n",
        "# Criando o modelo final com entrada do EfficientNet e saída personalizada\n",
        "model = Model(inputs=efficientnet.input, outputs=output)"
      ],
      "metadata": {
        "id": "HPvd0HY6K8Rj"
      },
      "id": "HPvd0HY6K8Rj",
      "execution_count": 100,
      "outputs": []
    },
    {
      "cell_type": "markdown",
      "source": [
        "- Compilação do modelo e treino."
      ],
      "metadata": {
        "id": "YDMh8xnurnbY"
      },
      "id": "YDMh8xnurnbY"
    },
    {
      "cell_type": "code",
      "source": [
        "model.compile(optimizer='adam', loss='categorical_crossentropy', metrics=['accuracy'])\n",
        "\n",
        "# Treinar o modelo\n",
        "history = model.fit(train_ds, validation_data=val_ds, verbose=1, epochs=3)"
      ],
      "metadata": {
        "colab": {
          "base_uri": "https://localhost:8080/"
        },
        "id": "cjd7rQK-LFRJ",
        "outputId": "02848a54-476b-4800-8b29-c2c86b1d8577"
      },
      "id": "cjd7rQK-LFRJ",
      "execution_count": 101,
      "outputs": [
        {
          "output_type": "stream",
          "name": "stdout",
          "text": [
            "Epoch 1/3\n",
            "900/900 [==============================] - 1142s 1s/step - loss: 0.0567 - accuracy: 0.9842 - val_loss: 0.0014 - val_accuracy: 1.0000\n",
            "Epoch 2/3\n",
            "900/900 [==============================] - 1075s 1s/step - loss: 0.0071 - accuracy: 0.9982 - val_loss: 1.9660e-04 - val_accuracy: 1.0000\n",
            "Epoch 3/3\n",
            "900/900 [==============================] - 1117s 1s/step - loss: 0.0071 - accuracy: 0.9976 - val_loss: 1.1484e-04 - val_accuracy: 1.0000\n"
          ]
        }
      ]
    },
    {
      "cell_type": "markdown",
      "source": [
        "# Bloco de execuções\n",
        "Foram executadas 8 iterações:"
      ],
      "metadata": {
        "id": "JVnY8GN_QUgU"
      },
      "id": "JVnY8GN_QUgU"
    },
    {
      "cell_type": "markdown",
      "source": [
        "## Primeira Execução"
      ],
      "metadata": {
        "id": "BRlPr2V-QY5H"
      },
      "id": "BRlPr2V-QY5H"
    },
    {
      "cell_type": "markdown",
      "source": [
        "- Tempo de execução: 4 minutos e 52 segundos\n",
        "- Tamanho: 10% do dataset\n",
        "- Tamanho do conjunto de validação: 10%\n",
        "- Duas camadas adicionais (64 neurônios e 32 neurônios)\n",
        "- Congelando a atualização das camadas"
      ],
      "metadata": {
        "id": "qyFRhwIntC8o"
      },
      "id": "qyFRhwIntC8o"
    },
    {
      "cell_type": "markdown",
      "source": [
        "### Epoch 1:\n"
      ],
      "metadata": {
        "id": "sWkHZbQ5QiOw"
      },
      "id": "sWkHZbQ5QiOw"
    },
    {
      "cell_type": "markdown",
      "source": [
        "#### Treino:\n"
      ],
      "metadata": {
        "id": "ydtaFrnJQnQE"
      },
      "id": "ydtaFrnJQnQE"
    },
    {
      "cell_type": "markdown",
      "source": [
        "- Loss: 0.3966\n",
        "- Accuracy: 0.8926\n"
      ],
      "metadata": {
        "id": "gfCXVI26QqJG"
      },
      "id": "gfCXVI26QqJG"
    },
    {
      "cell_type": "markdown",
      "source": [
        "#### Validação:\n"
      ],
      "metadata": {
        "id": "FMvPs9wrQr69"
      },
      "id": "FMvPs9wrQr69"
    },
    {
      "cell_type": "markdown",
      "source": [
        "- Loss: 0.8926\n",
        "- Accuracy: 1.0"
      ],
      "metadata": {
        "id": "iTZ_Bqh2Qti3"
      },
      "id": "iTZ_Bqh2Qti3"
    },
    {
      "cell_type": "markdown",
      "source": [
        "### Epoch 2:\n"
      ],
      "metadata": {
        "id": "BfekndZSQwgI"
      },
      "id": "BfekndZSQwgI"
    },
    {
      "cell_type": "markdown",
      "source": [
        "#### Treino:\n"
      ],
      "metadata": {
        "id": "8tqJSUahQyKp"
      },
      "id": "8tqJSUahQyKp"
    },
    {
      "cell_type": "markdown",
      "source": [
        "- Loss: 0.0465\n",
        "- Accuracy: 0.9938\n"
      ],
      "metadata": {
        "id": "ktO70kgFQzuD"
      },
      "id": "ktO70kgFQzuD"
    },
    {
      "cell_type": "markdown",
      "source": [
        "#### Validação:\n"
      ],
      "metadata": {
        "id": "hOwWG993Q1Ve"
      },
      "id": "hOwWG993Q1Ve"
    },
    {
      "cell_type": "markdown",
      "source": [
        "- Loss: 0.0123\n",
        "- Accuracy: 1.0"
      ],
      "metadata": {
        "id": "4EbcZHtWQ3IC"
      },
      "id": "4EbcZHtWQ3IC"
    },
    {
      "cell_type": "markdown",
      "source": [
        "## Segunda execução:"
      ],
      "metadata": {
        "id": "tpbNQ7cKQ5Up"
      },
      "id": "tpbNQ7cKQ5Up"
    },
    {
      "cell_type": "markdown",
      "source": [
        "- Tempo de execução: 36 minutos e 56 segundos\n",
        "- Tamanho: Todo o dataset\n",
        "- Tamanho do conjunto de validação: 10%\n",
        "- Duas camadas adicionais (64 neurônios e 32 neurônios)\n",
        "- Congelando a atualização das camadas\n"
      ],
      "metadata": {
        "id": "OyEtPr57RMzu"
      },
      "id": "OyEtPr57RMzu"
    },
    {
      "cell_type": "markdown",
      "source": [
        "### Epoch 1"
      ],
      "metadata": {
        "id": "C9-RlLXDSOmV"
      },
      "id": "C9-RlLXDSOmV"
    },
    {
      "cell_type": "markdown",
      "source": [
        "#### Treino"
      ],
      "metadata": {
        "id": "zyoGfjowSTpl"
      },
      "id": "zyoGfjowSTpl"
    },
    {
      "cell_type": "markdown",
      "source": [
        "- Loss: 0.0631\n",
        "- Accuracy: 0.9827"
      ],
      "metadata": {
        "id": "UHhtluM_Suzd"
      },
      "id": "UHhtluM_Suzd"
    },
    {
      "cell_type": "markdown",
      "source": [
        "#### Validação\n"
      ],
      "metadata": {
        "id": "0AIescGPSWcD"
      },
      "id": "0AIescGPSWcD"
    },
    {
      "cell_type": "markdown",
      "source": [
        "- Loss: 0.0010\n",
        "- Accuracy: 1.0"
      ],
      "metadata": {
        "id": "T1lMAp_dts86"
      },
      "id": "T1lMAp_dts86"
    },
    {
      "cell_type": "markdown",
      "source": [
        "### Epoch 2"
      ],
      "metadata": {
        "id": "n4uJ1yEpSSLE"
      },
      "id": "n4uJ1yEpSSLE"
    },
    {
      "cell_type": "markdown",
      "source": [
        "#### Treino\n"
      ],
      "metadata": {
        "id": "Yfg6HuwxSYWC"
      },
      "id": "Yfg6HuwxSYWC"
    },
    {
      "cell_type": "markdown",
      "source": [
        "- Loss: 0.0045\n",
        "- Accuracy: 0.9986"
      ],
      "metadata": {
        "id": "1stCS7GEY-92"
      },
      "id": "1stCS7GEY-92"
    },
    {
      "cell_type": "markdown",
      "source": [
        "#### Validação"
      ],
      "metadata": {
        "id": "Uy7nHb_7SZWL"
      },
      "id": "Uy7nHb_7SZWL"
    },
    {
      "cell_type": "markdown",
      "source": [
        "- Loss: 5.3764e-04\n",
        "- Accuracy: 1.0"
      ],
      "metadata": {
        "id": "ZRp9dhQ9ZAY7"
      },
      "id": "ZRp9dhQ9ZAY7"
    },
    {
      "cell_type": "markdown",
      "source": [
        "## Terceira Execução"
      ],
      "metadata": {
        "id": "RCcB9eHTjpBs"
      },
      "id": "RCcB9eHTjpBs"
    },
    {
      "cell_type": "markdown",
      "source": [
        "- Tempo de execução: 4 minutos e 31 segundos\n",
        "- Tamanho: 10% do dataset\n",
        "- Tamanho do conjunto de validação: 20%\n",
        "- Uma camada adicional (64 neurônios)\n",
        "- Congelando a atualização das camadas"
      ],
      "metadata": {
        "id": "H-mh-i4OjwIh"
      },
      "id": "H-mh-i4OjwIh"
    },
    {
      "cell_type": "markdown",
      "source": [
        "### Epoch 1"
      ],
      "metadata": {
        "id": "vTRURZk0j0gZ"
      },
      "id": "vTRURZk0j0gZ"
    },
    {
      "cell_type": "markdown",
      "source": [
        "#### Treino"
      ],
      "metadata": {
        "id": "9TbBF-eskCzU"
      },
      "id": "9TbBF-eskCzU"
    },
    {
      "cell_type": "markdown",
      "source": [
        "- Loss: 0.3862\n",
        "- Accuracy: 0.8868\n"
      ],
      "metadata": {
        "id": "j8cZzFZAkOIN"
      },
      "id": "j8cZzFZAkOIN"
    },
    {
      "cell_type": "markdown",
      "source": [
        "#### Validação"
      ],
      "metadata": {
        "id": "lohJZmgKkEwU"
      },
      "id": "lohJZmgKkEwU"
    },
    {
      "cell_type": "markdown",
      "source": [
        "- Loss: 0.0817\n",
        "- Accuracy: 0.9833\n"
      ],
      "metadata": {
        "id": "NjHB7ttpkZ-7"
      },
      "id": "NjHB7ttpkZ-7"
    },
    {
      "cell_type": "markdown",
      "source": [
        "### Epoch 2"
      ],
      "metadata": {
        "id": "o_td3wjWj4Sk"
      },
      "id": "o_td3wjWj4Sk"
    },
    {
      "cell_type": "markdown",
      "source": [
        "#### Treino"
      ],
      "metadata": {
        "id": "mE0x9haGkGW5"
      },
      "id": "mE0x9haGkGW5"
    },
    {
      "cell_type": "markdown",
      "source": [
        "- Loss: 0.0716\n",
        "- Accuracy: 0.9917"
      ],
      "metadata": {
        "id": "5qTb586Nkf6h"
      },
      "id": "5qTb586Nkf6h"
    },
    {
      "cell_type": "markdown",
      "source": [
        "#### Validação"
      ],
      "metadata": {
        "id": "7TADU64bkHu5"
      },
      "id": "7TADU64bkHu5"
    },
    {
      "cell_type": "markdown",
      "source": [
        "- Loss: 0.0497\n",
        "- Accuracy: 0.9944\n"
      ],
      "metadata": {
        "id": "KfjTBJTokm7q"
      },
      "id": "KfjTBJTokm7q"
    },
    {
      "cell_type": "markdown",
      "source": [
        "## Quarta execução"
      ],
      "metadata": {
        "id": "MMUJh23hvINt"
      },
      "id": "MMUJh23hvINt"
    },
    {
      "cell_type": "markdown",
      "source": [
        "- Tempo de execução: 4 minutos e 31 segundos\n",
        "- Tamanho: 10% do dataset\n",
        "- Tamanho do conjunto de validação: 20%\n",
        "- Duas camadas adicionais (64 neurônios e 64 neurônios)\n",
        "- Congelando a atualização das camadas"
      ],
      "metadata": {
        "id": "B0E5ZZdDvK6T"
      },
      "id": "B0E5ZZdDvK6T"
    },
    {
      "cell_type": "markdown",
      "source": [
        "### Epoch 1"
      ],
      "metadata": {
        "id": "KOtu4vG9vcki"
      },
      "id": "KOtu4vG9vcki"
    },
    {
      "cell_type": "markdown",
      "source": [
        "#### Treino"
      ],
      "metadata": {
        "id": "13BVWYf-voN4"
      },
      "id": "13BVWYf-voN4"
    },
    {
      "cell_type": "markdown",
      "source": [
        "- Loss: 0.4206\n",
        "- Accuracy: 0.8896\n"
      ],
      "metadata": {
        "id": "ctO-oTCTv2kO"
      },
      "id": "ctO-oTCTv2kO"
    },
    {
      "cell_type": "markdown",
      "source": [
        "#### Teste"
      ],
      "metadata": {
        "id": "UmHs3DOHvqFG"
      },
      "id": "UmHs3DOHvqFG"
    },
    {
      "cell_type": "markdown",
      "source": [
        "- Loss: 0.0499\n",
        "- Accuracy: 0.9972\n",
        "\n",
        "\n"
      ],
      "metadata": {
        "id": "Aa5xpU81w3DT"
      },
      "id": "Aa5xpU81w3DT"
    },
    {
      "cell_type": "markdown",
      "source": [
        "### Epoch 2"
      ],
      "metadata": {
        "id": "Jsmh-i-Vvfl8"
      },
      "id": "Jsmh-i-Vvfl8"
    },
    {
      "cell_type": "markdown",
      "source": [
        "#### Treino"
      ],
      "metadata": {
        "id": "CzuCgwwivpHg"
      },
      "id": "CzuCgwwivpHg"
    },
    {
      "cell_type": "markdown",
      "source": [
        "- Loss: 0.0507\n",
        "- Accuracy: 0.9917\n"
      ],
      "metadata": {
        "id": "Psl4xYZRw5XS"
      },
      "id": "Psl4xYZRw5XS"
    },
    {
      "cell_type": "markdown",
      "source": [
        "#### Teste"
      ],
      "metadata": {
        "id": "CymtAb1zvr49"
      },
      "id": "CymtAb1zvr49"
    },
    {
      "cell_type": "markdown",
      "source": [
        "- Loss: 0.0220\n",
        "- Accuracy: 0.9944\n",
        "\n"
      ],
      "metadata": {
        "id": "174V9oUNw7_g"
      },
      "id": "174V9oUNw7_g"
    },
    {
      "cell_type": "markdown",
      "source": [
        "## Quinta execução"
      ],
      "metadata": {
        "id": "SSv8tBg7vUM2"
      },
      "id": "SSv8tBg7vUM2"
    },
    {
      "cell_type": "markdown",
      "source": [
        "- Tempo de execução: 6 minutos e 33 segundos\n",
        "- Tamanho: 10% do dataset\n",
        "- Tamanho do conjunto de validação: 20%\n",
        "- Duas camadas adicionais (64 neurônios e 64 neurônios)\n",
        "- Congelando a atualização das camadas"
      ],
      "metadata": {
        "id": "Qq_Atr2BvW6E"
      },
      "id": "Qq_Atr2BvW6E"
    },
    {
      "cell_type": "markdown",
      "source": [
        "### Epoch 1"
      ],
      "metadata": {
        "id": "N0XHepecvg5z"
      },
      "id": "N0XHepecvg5z"
    },
    {
      "cell_type": "markdown",
      "source": [
        "#### Treino"
      ],
      "metadata": {
        "id": "E-FMBhHMvjk2"
      },
      "id": "E-FMBhHMvjk2"
    },
    {
      "cell_type": "markdown",
      "source": [
        "- Loss: 0.0349\n",
        "- Accuracy: 0.9931\n"
      ],
      "metadata": {
        "id": "DvHYtGKRxNAo"
      },
      "id": "DvHYtGKRxNAo"
    },
    {
      "cell_type": "markdown",
      "source": [
        "#### Teste"
      ],
      "metadata": {
        "id": "550CYTMTvtFd"
      },
      "id": "550CYTMTvtFd"
    },
    {
      "cell_type": "markdown",
      "source": [
        "- Loss: 0.0090\n",
        "- Accuracy: 1.0\n"
      ],
      "metadata": {
        "id": "YsZVcGUFxOIw"
      },
      "id": "YsZVcGUFxOIw"
    },
    {
      "cell_type": "markdown",
      "source": [
        "### Epoch 2"
      ],
      "metadata": {
        "id": "1Bl8XRojviIK"
      },
      "id": "1Bl8XRojviIK"
    },
    {
      "cell_type": "markdown",
      "source": [
        "#### Treino"
      ],
      "metadata": {
        "id": "gYED0I5ovnA1"
      },
      "id": "gYED0I5ovnA1"
    },
    {
      "cell_type": "markdown",
      "source": [
        "- Loss: 0.0187\n",
        "- Accuracy: 0.9931\n"
      ],
      "metadata": {
        "id": "JdDYnORMxyLE"
      },
      "id": "JdDYnORMxyLE"
    },
    {
      "cell_type": "markdown",
      "source": [
        "#### Teste"
      ],
      "metadata": {
        "id": "S_2eX8TdvuWF"
      },
      "id": "S_2eX8TdvuWF"
    },
    {
      "cell_type": "markdown",
      "source": [
        "- Loss: 0.0025\n",
        "- Accuracy: 1.0\n",
        "\n"
      ],
      "metadata": {
        "id": "mAbZ5TYHxzQE"
      },
      "id": "mAbZ5TYHxzQE"
    },
    {
      "cell_type": "markdown",
      "source": [
        "### Epoch 3"
      ],
      "metadata": {
        "id": "Nmk2yLaUx4Kz"
      },
      "id": "Nmk2yLaUx4Kz"
    },
    {
      "cell_type": "markdown",
      "source": [
        "#### Treino\n"
      ],
      "metadata": {
        "id": "P2Qsp4xcx7i7"
      },
      "id": "P2Qsp4xcx7i7"
    },
    {
      "cell_type": "markdown",
      "source": [
        "- Loss: 0.0158\n",
        "- Accuracy: 0.9937"
      ],
      "metadata": {
        "id": "Do7PHc-cyDMy"
      },
      "id": "Do7PHc-cyDMy"
    },
    {
      "cell_type": "markdown",
      "source": [
        "#### Teste"
      ],
      "metadata": {
        "id": "_i7uci4bx8vl"
      },
      "id": "_i7uci4bx8vl"
    },
    {
      "cell_type": "markdown",
      "source": [
        "- Loss: 0.0163\n",
        "- Accuracy: 0.9917"
      ],
      "metadata": {
        "id": "Syk1SjpSyES5"
      },
      "id": "Syk1SjpSyES5"
    },
    {
      "cell_type": "markdown",
      "source": [
        "## Sexta execução"
      ],
      "metadata": {
        "id": "eOIwmmN_y7Hw"
      },
      "id": "eOIwmmN_y7Hw"
    },
    {
      "cell_type": "markdown",
      "source": [
        "- Tempo de execução: 6 minutos e 35 segundos\n",
        "- Tamanho: 10% do dataset\n",
        "- Tamanho do conjunto de validação: 20%\n",
        "- Sem camadas adicionais\n",
        "- Congelando a atualização das camadas"
      ],
      "metadata": {
        "id": "j6rievfmy7Hw"
      },
      "id": "j6rievfmy7Hw"
    },
    {
      "cell_type": "markdown",
      "source": [
        "### Epoch 1"
      ],
      "metadata": {
        "id": "nDt_FHaWy7Hx"
      },
      "id": "nDt_FHaWy7Hx"
    },
    {
      "cell_type": "markdown",
      "source": [
        "#### Treino"
      ],
      "metadata": {
        "id": "FhntvQnwy7Hx"
      },
      "id": "FhntvQnwy7Hx"
    },
    {
      "cell_type": "markdown",
      "source": [
        "- Loss: 0.6739\n",
        "- Accuracy: 0.8597\n"
      ],
      "metadata": {
        "id": "X4aJRBuvy7Hx"
      },
      "id": "X4aJRBuvy7Hx"
    },
    {
      "cell_type": "markdown",
      "source": [
        "#### Teste"
      ],
      "metadata": {
        "id": "-d1LGJ17y7Hy"
      },
      "id": "-d1LGJ17y7Hy"
    },
    {
      "cell_type": "markdown",
      "source": [
        "- Loss: 0.2538\n",
        "- Accuracy: 0.9861\n"
      ],
      "metadata": {
        "id": "tXw0YPWny7Hy"
      },
      "id": "tXw0YPWny7Hy"
    },
    {
      "cell_type": "markdown",
      "source": [
        "### Epoch 2"
      ],
      "metadata": {
        "id": "gVl8uqMwy7Hy"
      },
      "id": "gVl8uqMwy7Hy"
    },
    {
      "cell_type": "markdown",
      "source": [
        "#### Treino"
      ],
      "metadata": {
        "id": "a2BxSu_7y7Hy"
      },
      "id": "a2BxSu_7y7Hy"
    },
    {
      "cell_type": "markdown",
      "source": [
        "- Loss: 0.2216\n",
        "- Accuracy: 0.9778\n"
      ],
      "metadata": {
        "id": "mPHIgvigy7Hz"
      },
      "id": "mPHIgvigy7Hz"
    },
    {
      "cell_type": "markdown",
      "source": [
        "#### Teste"
      ],
      "metadata": {
        "id": "IwMZthNay7Hz"
      },
      "id": "IwMZthNay7Hz"
    },
    {
      "cell_type": "markdown",
      "source": [
        "- Loss: 0.1358\n",
        "- Accuracy: 0.9889\n",
        "\n",
        "\n",
        "\n"
      ],
      "metadata": {
        "id": "AGBnhtd_y7Hz"
      },
      "id": "AGBnhtd_y7Hz"
    },
    {
      "cell_type": "markdown",
      "source": [
        "### Epoch 3"
      ],
      "metadata": {
        "id": "DQZovJNQy7H0"
      },
      "id": "DQZovJNQy7H0"
    },
    {
      "cell_type": "markdown",
      "source": [
        "#### Treino\n"
      ],
      "metadata": {
        "id": "CJWEBSaAy7H0"
      },
      "id": "CJWEBSaAy7H0"
    },
    {
      "cell_type": "markdown",
      "source": [
        "- Loss: 0.1432\n",
        "- Accuracy: 0.9847\n"
      ],
      "metadata": {
        "id": "v5IPeTjAy7H0"
      },
      "id": "v5IPeTjAy7H0"
    },
    {
      "cell_type": "markdown",
      "source": [
        "#### Teste"
      ],
      "metadata": {
        "id": "3EuUcOqdy7H1"
      },
      "id": "3EuUcOqdy7H1"
    },
    {
      "cell_type": "markdown",
      "source": [
        "- Loss: 0.0893\n",
        "- Accuracy: 0.9972\n"
      ],
      "metadata": {
        "id": "n1lXDqEUy7H1"
      },
      "id": "n1lXDqEUy7H1"
    },
    {
      "cell_type": "markdown",
      "source": [
        "## Sétima execução"
      ],
      "metadata": {
        "id": "5wz11pP50AHF"
      },
      "id": "5wz11pP50AHF"
    },
    {
      "cell_type": "markdown",
      "source": [
        "- Tempo de execução: 20 minutos e 54 segundos\n",
        "- Tamanho: 10% do dataset\n",
        "- Tamanho do conjunto de validação: 20%\n",
        "- Sem camadas adicionais\n",
        "- Permitindo a atualização das camadas"
      ],
      "metadata": {
        "id": "hE8YKwoe0AHG"
      },
      "id": "hE8YKwoe0AHG"
    },
    {
      "cell_type": "markdown",
      "source": [
        "### Epoch 1"
      ],
      "metadata": {
        "id": "Q6lTM94Q0AHH"
      },
      "id": "Q6lTM94Q0AHH"
    },
    {
      "cell_type": "markdown",
      "source": [
        "#### Treino"
      ],
      "metadata": {
        "id": "L8sA2nk-0AHH"
      },
      "id": "L8sA2nk-0AHH"
    },
    {
      "cell_type": "markdown",
      "source": [
        "- Loss: 0.2445\n",
        "- Accuracy: 0.9201\n",
        "\n"
      ],
      "metadata": {
        "id": "wzcd5nhf0AHH"
      },
      "id": "wzcd5nhf0AHH"
    },
    {
      "cell_type": "markdown",
      "source": [
        "#### Teste"
      ],
      "metadata": {
        "id": "X6bQYfh_0AHI"
      },
      "id": "X6bQYfh_0AHI"
    },
    {
      "cell_type": "markdown",
      "source": [
        "- Loss: 0.1824\n",
        "- Accuracy: 0.9306\n",
        "\n"
      ],
      "metadata": {
        "id": "yHYt27670AHI"
      },
      "id": "yHYt27670AHI"
    },
    {
      "cell_type": "markdown",
      "source": [
        "### Epoch 2"
      ],
      "metadata": {
        "id": "8SYQjZjA0AHI"
      },
      "id": "8SYQjZjA0AHI"
    },
    {
      "cell_type": "markdown",
      "source": [
        "#### Treino"
      ],
      "metadata": {
        "id": "xm-G_NiJ0AHJ"
      },
      "id": "xm-G_NiJ0AHJ"
    },
    {
      "cell_type": "markdown",
      "source": [
        "- Loss: 0.0547\n",
        "- Accuracy: 0.9819\n"
      ],
      "metadata": {
        "id": "zYoXMG730AHJ"
      },
      "id": "zYoXMG730AHJ"
    },
    {
      "cell_type": "markdown",
      "source": [
        "#### Teste"
      ],
      "metadata": {
        "id": "DiaSxicL0AHJ"
      },
      "id": "DiaSxicL0AHJ"
    },
    {
      "cell_type": "markdown",
      "source": [
        "- Loss: 0.0353\n",
        "- Accuracy: 0.9861\n",
        "\n",
        "\n"
      ],
      "metadata": {
        "id": "x6-PZhXJ0AHK"
      },
      "id": "x6-PZhXJ0AHK"
    },
    {
      "cell_type": "markdown",
      "source": [
        "### Epoch 3"
      ],
      "metadata": {
        "id": "75-IHg8h0AHK"
      },
      "id": "75-IHg8h0AHK"
    },
    {
      "cell_type": "markdown",
      "source": [
        "#### Treino\n"
      ],
      "metadata": {
        "id": "21mKsmvu0AHK"
      },
      "id": "21mKsmvu0AHK"
    },
    {
      "cell_type": "markdown",
      "source": [
        "- Loss: 0.0160\n",
        "- Accuracy: 0.9944\n"
      ],
      "metadata": {
        "id": "FwkCPdc90AHK"
      },
      "id": "FwkCPdc90AHK"
    },
    {
      "cell_type": "markdown",
      "source": [
        "#### Teste"
      ],
      "metadata": {
        "id": "Jv-erS5h0AHL"
      },
      "id": "Jv-erS5h0AHL"
    },
    {
      "cell_type": "markdown",
      "source": [
        "- Loss: 0.0382\n",
        "- Accuracy: 0.9861\n"
      ],
      "metadata": {
        "id": "J2xk6TRW0AHL"
      },
      "id": "J2xk6TRW0AHL"
    },
    {
      "cell_type": "markdown",
      "source": [
        "## Oitava execução"
      ],
      "metadata": {
        "id": "KHdiuRJE0DwJ"
      },
      "id": "KHdiuRJE0DwJ"
    },
    {
      "cell_type": "markdown",
      "source": [
        "- Tempo de execução: 56 minutos e 19 segundos\n",
        "- Tamanho: Todo o dataset\n",
        "- Tamanho do conjunto de validação: 20%\n",
        "- Duas camadas adicionais (64 neurônios e 64 neurônios)\n",
        "- Congelando a atualização das camadas"
      ],
      "metadata": {
        "id": "-QaUqvxL0DwK"
      },
      "id": "-QaUqvxL0DwK"
    },
    {
      "cell_type": "markdown",
      "source": [
        "### Epoch 1"
      ],
      "metadata": {
        "id": "TuSVSHvx0DwK"
      },
      "id": "TuSVSHvx0DwK"
    },
    {
      "cell_type": "markdown",
      "source": [
        "#### Treino"
      ],
      "metadata": {
        "id": "j4wZSenV0DwL"
      },
      "id": "j4wZSenV0DwL"
    },
    {
      "cell_type": "markdown",
      "source": [
        "- Loss: 0.0567\n",
        "- Accuracy: 0.9842\n",
        "\n"
      ],
      "metadata": {
        "id": "xeeg15MK0DwL"
      },
      "id": "xeeg15MK0DwL"
    },
    {
      "cell_type": "markdown",
      "source": [
        "#### Teste"
      ],
      "metadata": {
        "id": "EWv9aEps0DwL"
      },
      "id": "EWv9aEps0DwL"
    },
    {
      "cell_type": "markdown",
      "source": [
        "- Loss: 0.0014\n",
        "- Accuracy: 1.0\n",
        "\n"
      ],
      "metadata": {
        "id": "1chq7zJj0DwM"
      },
      "id": "1chq7zJj0DwM"
    },
    {
      "cell_type": "markdown",
      "source": [
        "### Epoch 2"
      ],
      "metadata": {
        "id": "aCfnMGN40DwM"
      },
      "id": "aCfnMGN40DwM"
    },
    {
      "cell_type": "markdown",
      "source": [
        "#### Treino"
      ],
      "metadata": {
        "id": "tW0Yt9440DwM"
      },
      "id": "tW0Yt9440DwM"
    },
    {
      "cell_type": "markdown",
      "source": [
        "- Loss: 0.0071\n",
        "- Accuracy: 0.9982\n",
        "\n"
      ],
      "metadata": {
        "id": "oeic7K-t0DwM"
      },
      "id": "oeic7K-t0DwM"
    },
    {
      "cell_type": "markdown",
      "source": [
        "#### Teste"
      ],
      "metadata": {
        "id": "l_D_TbB50DwN"
      },
      "id": "l_D_TbB50DwN"
    },
    {
      "cell_type": "markdown",
      "source": [
        "- Loss: 1.9660e-04\n",
        "- Accuracy: 1.0\n"
      ],
      "metadata": {
        "id": "j7l4Vngf0DwN"
      },
      "id": "j7l4Vngf0DwN"
    },
    {
      "cell_type": "markdown",
      "source": [
        "### Epoch 3"
      ],
      "metadata": {
        "id": "q6_e4s010DwN"
      },
      "id": "q6_e4s010DwN"
    },
    {
      "cell_type": "markdown",
      "source": [
        "#### Treino\n"
      ],
      "metadata": {
        "id": "tf5IyNue0DwO"
      },
      "id": "tf5IyNue0DwO"
    },
    {
      "cell_type": "markdown",
      "source": [
        "- Loss: 0.0071\n",
        "- Accuracy: 0.9976\n"
      ],
      "metadata": {
        "id": "-JiVcKfe0DwO"
      },
      "id": "-JiVcKfe0DwO"
    },
    {
      "cell_type": "markdown",
      "source": [
        "#### Teste"
      ],
      "metadata": {
        "id": "6QWgNx0R0DwO"
      },
      "id": "6QWgNx0R0DwO"
    },
    {
      "cell_type": "markdown",
      "source": [
        "- Loss: 1.1484e-04\n",
        "- Accuracy: 1.0"
      ],
      "metadata": {
        "id": "FVvejg7a0DwP"
      },
      "id": "FVvejg7a0DwP"
    },
    {
      "cell_type": "markdown",
      "source": [
        "# Sumário do modelo"
      ],
      "metadata": {
        "id": "4UkQVcrcZZs0"
      },
      "id": "4UkQVcrcZZs0"
    },
    {
      "cell_type": "code",
      "execution_count": 102,
      "id": "40f4c187-48a3-4864-9e06-ea7e28d8b2fb",
      "metadata": {
        "id": "40f4c187-48a3-4864-9e06-ea7e28d8b2fb",
        "outputId": "90419843-9cb6-4c0c-fe4e-5500488afe9d",
        "colab": {
          "base_uri": "https://localhost:8080/"
        }
      },
      "outputs": [
        {
          "output_type": "stream",
          "name": "stdout",
          "text": [
            "Model: \"model_6\"\n",
            "__________________________________________________________________________________________________\n",
            " Layer (type)                Output Shape                 Param #   Connected to                  \n",
            "==================================================================================================\n",
            " input_5 (InputLayer)        [(None, 224, 224, 3)]        0         []                            \n",
            "                                                                                                  \n",
            " rescaling_8 (Rescaling)     (None, 224, 224, 3)          0         ['input_5[0][0]']             \n",
            "                                                                                                  \n",
            " normalization_4 (Normaliza  (None, 224, 224, 3)          7         ['rescaling_8[0][0]']         \n",
            " tion)                                                                                            \n",
            "                                                                                                  \n",
            " rescaling_9 (Rescaling)     (None, 224, 224, 3)          0         ['normalization_4[0][0]']     \n",
            "                                                                                                  \n",
            " stem_conv_pad (ZeroPadding  (None, 225, 225, 3)          0         ['rescaling_9[0][0]']         \n",
            " 2D)                                                                                              \n",
            "                                                                                                  \n",
            " stem_conv (Conv2D)          (None, 112, 112, 32)         864       ['stem_conv_pad[0][0]']       \n",
            "                                                                                                  \n",
            " stem_bn (BatchNormalizatio  (None, 112, 112, 32)         128       ['stem_conv[0][0]']           \n",
            " n)                                                                                               \n",
            "                                                                                                  \n",
            " stem_activation (Activatio  (None, 112, 112, 32)         0         ['stem_bn[0][0]']             \n",
            " n)                                                                                               \n",
            "                                                                                                  \n",
            " block1a_dwconv (DepthwiseC  (None, 112, 112, 32)         288       ['stem_activation[0][0]']     \n",
            " onv2D)                                                                                           \n",
            "                                                                                                  \n",
            " block1a_bn (BatchNormaliza  (None, 112, 112, 32)         128       ['block1a_dwconv[0][0]']      \n",
            " tion)                                                                                            \n",
            "                                                                                                  \n",
            " block1a_activation (Activa  (None, 112, 112, 32)         0         ['block1a_bn[0][0]']          \n",
            " tion)                                                                                            \n",
            "                                                                                                  \n",
            " block1a_se_squeeze (Global  (None, 32)                   0         ['block1a_activation[0][0]']  \n",
            " AveragePooling2D)                                                                                \n",
            "                                                                                                  \n",
            " block1a_se_reshape (Reshap  (None, 1, 1, 32)             0         ['block1a_se_squeeze[0][0]']  \n",
            " e)                                                                                               \n",
            "                                                                                                  \n",
            " block1a_se_reduce (Conv2D)  (None, 1, 1, 8)              264       ['block1a_se_reshape[0][0]']  \n",
            "                                                                                                  \n",
            " block1a_se_expand (Conv2D)  (None, 1, 1, 32)             288       ['block1a_se_reduce[0][0]']   \n",
            "                                                                                                  \n",
            " block1a_se_excite (Multipl  (None, 112, 112, 32)         0         ['block1a_activation[0][0]',  \n",
            " y)                                                                  'block1a_se_expand[0][0]']   \n",
            "                                                                                                  \n",
            " block1a_project_conv (Conv  (None, 112, 112, 16)         512       ['block1a_se_excite[0][0]']   \n",
            " 2D)                                                                                              \n",
            "                                                                                                  \n",
            " block1a_project_bn (BatchN  (None, 112, 112, 16)         64        ['block1a_project_conv[0][0]']\n",
            " ormalization)                                                                                    \n",
            "                                                                                                  \n",
            " block2a_expand_conv (Conv2  (None, 112, 112, 96)         1536      ['block1a_project_bn[0][0]']  \n",
            " D)                                                                                               \n",
            "                                                                                                  \n",
            " block2a_expand_bn (BatchNo  (None, 112, 112, 96)         384       ['block2a_expand_conv[0][0]'] \n",
            " rmalization)                                                                                     \n",
            "                                                                                                  \n",
            " block2a_expand_activation   (None, 112, 112, 96)         0         ['block2a_expand_bn[0][0]']   \n",
            " (Activation)                                                                                     \n",
            "                                                                                                  \n",
            " block2a_dwconv_pad (ZeroPa  (None, 113, 113, 96)         0         ['block2a_expand_activation[0]\n",
            " dding2D)                                                           [0]']                         \n",
            "                                                                                                  \n",
            " block2a_dwconv (DepthwiseC  (None, 56, 56, 96)           864       ['block2a_dwconv_pad[0][0]']  \n",
            " onv2D)                                                                                           \n",
            "                                                                                                  \n",
            " block2a_bn (BatchNormaliza  (None, 56, 56, 96)           384       ['block2a_dwconv[0][0]']      \n",
            " tion)                                                                                            \n",
            "                                                                                                  \n",
            " block2a_activation (Activa  (None, 56, 56, 96)           0         ['block2a_bn[0][0]']          \n",
            " tion)                                                                                            \n",
            "                                                                                                  \n",
            " block2a_se_squeeze (Global  (None, 96)                   0         ['block2a_activation[0][0]']  \n",
            " AveragePooling2D)                                                                                \n",
            "                                                                                                  \n",
            " block2a_se_reshape (Reshap  (None, 1, 1, 96)             0         ['block2a_se_squeeze[0][0]']  \n",
            " e)                                                                                               \n",
            "                                                                                                  \n",
            " block2a_se_reduce (Conv2D)  (None, 1, 1, 4)              388       ['block2a_se_reshape[0][0]']  \n",
            "                                                                                                  \n",
            " block2a_se_expand (Conv2D)  (None, 1, 1, 96)             480       ['block2a_se_reduce[0][0]']   \n",
            "                                                                                                  \n",
            " block2a_se_excite (Multipl  (None, 56, 56, 96)           0         ['block2a_activation[0][0]',  \n",
            " y)                                                                  'block2a_se_expand[0][0]']   \n",
            "                                                                                                  \n",
            " block2a_project_conv (Conv  (None, 56, 56, 24)           2304      ['block2a_se_excite[0][0]']   \n",
            " 2D)                                                                                              \n",
            "                                                                                                  \n",
            " block2a_project_bn (BatchN  (None, 56, 56, 24)           96        ['block2a_project_conv[0][0]']\n",
            " ormalization)                                                                                    \n",
            "                                                                                                  \n",
            " block2b_expand_conv (Conv2  (None, 56, 56, 144)          3456      ['block2a_project_bn[0][0]']  \n",
            " D)                                                                                               \n",
            "                                                                                                  \n",
            " block2b_expand_bn (BatchNo  (None, 56, 56, 144)          576       ['block2b_expand_conv[0][0]'] \n",
            " rmalization)                                                                                     \n",
            "                                                                                                  \n",
            " block2b_expand_activation   (None, 56, 56, 144)          0         ['block2b_expand_bn[0][0]']   \n",
            " (Activation)                                                                                     \n",
            "                                                                                                  \n",
            " block2b_dwconv (DepthwiseC  (None, 56, 56, 144)          1296      ['block2b_expand_activation[0]\n",
            " onv2D)                                                             [0]']                         \n",
            "                                                                                                  \n",
            " block2b_bn (BatchNormaliza  (None, 56, 56, 144)          576       ['block2b_dwconv[0][0]']      \n",
            " tion)                                                                                            \n",
            "                                                                                                  \n",
            " block2b_activation (Activa  (None, 56, 56, 144)          0         ['block2b_bn[0][0]']          \n",
            " tion)                                                                                            \n",
            "                                                                                                  \n",
            " block2b_se_squeeze (Global  (None, 144)                  0         ['block2b_activation[0][0]']  \n",
            " AveragePooling2D)                                                                                \n",
            "                                                                                                  \n",
            " block2b_se_reshape (Reshap  (None, 1, 1, 144)            0         ['block2b_se_squeeze[0][0]']  \n",
            " e)                                                                                               \n",
            "                                                                                                  \n",
            " block2b_se_reduce (Conv2D)  (None, 1, 1, 6)              870       ['block2b_se_reshape[0][0]']  \n",
            "                                                                                                  \n",
            " block2b_se_expand (Conv2D)  (None, 1, 1, 144)            1008      ['block2b_se_reduce[0][0]']   \n",
            "                                                                                                  \n",
            " block2b_se_excite (Multipl  (None, 56, 56, 144)          0         ['block2b_activation[0][0]',  \n",
            " y)                                                                  'block2b_se_expand[0][0]']   \n",
            "                                                                                                  \n",
            " block2b_project_conv (Conv  (None, 56, 56, 24)           3456      ['block2b_se_excite[0][0]']   \n",
            " 2D)                                                                                              \n",
            "                                                                                                  \n",
            " block2b_project_bn (BatchN  (None, 56, 56, 24)           96        ['block2b_project_conv[0][0]']\n",
            " ormalization)                                                                                    \n",
            "                                                                                                  \n",
            " block2b_drop (Dropout)      (None, 56, 56, 24)           0         ['block2b_project_bn[0][0]']  \n",
            "                                                                                                  \n",
            " block2b_add (Add)           (None, 56, 56, 24)           0         ['block2b_drop[0][0]',        \n",
            "                                                                     'block2a_project_bn[0][0]']  \n",
            "                                                                                                  \n",
            " block3a_expand_conv (Conv2  (None, 56, 56, 144)          3456      ['block2b_add[0][0]']         \n",
            " D)                                                                                               \n",
            "                                                                                                  \n",
            " block3a_expand_bn (BatchNo  (None, 56, 56, 144)          576       ['block3a_expand_conv[0][0]'] \n",
            " rmalization)                                                                                     \n",
            "                                                                                                  \n",
            " block3a_expand_activation   (None, 56, 56, 144)          0         ['block3a_expand_bn[0][0]']   \n",
            " (Activation)                                                                                     \n",
            "                                                                                                  \n",
            " block3a_dwconv_pad (ZeroPa  (None, 59, 59, 144)          0         ['block3a_expand_activation[0]\n",
            " dding2D)                                                           [0]']                         \n",
            "                                                                                                  \n",
            " block3a_dwconv (DepthwiseC  (None, 28, 28, 144)          3600      ['block3a_dwconv_pad[0][0]']  \n",
            " onv2D)                                                                                           \n",
            "                                                                                                  \n",
            " block3a_bn (BatchNormaliza  (None, 28, 28, 144)          576       ['block3a_dwconv[0][0]']      \n",
            " tion)                                                                                            \n",
            "                                                                                                  \n",
            " block3a_activation (Activa  (None, 28, 28, 144)          0         ['block3a_bn[0][0]']          \n",
            " tion)                                                                                            \n",
            "                                                                                                  \n",
            " block3a_se_squeeze (Global  (None, 144)                  0         ['block3a_activation[0][0]']  \n",
            " AveragePooling2D)                                                                                \n",
            "                                                                                                  \n",
            " block3a_se_reshape (Reshap  (None, 1, 1, 144)            0         ['block3a_se_squeeze[0][0]']  \n",
            " e)                                                                                               \n",
            "                                                                                                  \n",
            " block3a_se_reduce (Conv2D)  (None, 1, 1, 6)              870       ['block3a_se_reshape[0][0]']  \n",
            "                                                                                                  \n",
            " block3a_se_expand (Conv2D)  (None, 1, 1, 144)            1008      ['block3a_se_reduce[0][0]']   \n",
            "                                                                                                  \n",
            " block3a_se_excite (Multipl  (None, 28, 28, 144)          0         ['block3a_activation[0][0]',  \n",
            " y)                                                                  'block3a_se_expand[0][0]']   \n",
            "                                                                                                  \n",
            " block3a_project_conv (Conv  (None, 28, 28, 40)           5760      ['block3a_se_excite[0][0]']   \n",
            " 2D)                                                                                              \n",
            "                                                                                                  \n",
            " block3a_project_bn (BatchN  (None, 28, 28, 40)           160       ['block3a_project_conv[0][0]']\n",
            " ormalization)                                                                                    \n",
            "                                                                                                  \n",
            " block3b_expand_conv (Conv2  (None, 28, 28, 240)          9600      ['block3a_project_bn[0][0]']  \n",
            " D)                                                                                               \n",
            "                                                                                                  \n",
            " block3b_expand_bn (BatchNo  (None, 28, 28, 240)          960       ['block3b_expand_conv[0][0]'] \n",
            " rmalization)                                                                                     \n",
            "                                                                                                  \n",
            " block3b_expand_activation   (None, 28, 28, 240)          0         ['block3b_expand_bn[0][0]']   \n",
            " (Activation)                                                                                     \n",
            "                                                                                                  \n",
            " block3b_dwconv (DepthwiseC  (None, 28, 28, 240)          6000      ['block3b_expand_activation[0]\n",
            " onv2D)                                                             [0]']                         \n",
            "                                                                                                  \n",
            " block3b_bn (BatchNormaliza  (None, 28, 28, 240)          960       ['block3b_dwconv[0][0]']      \n",
            " tion)                                                                                            \n",
            "                                                                                                  \n",
            " block3b_activation (Activa  (None, 28, 28, 240)          0         ['block3b_bn[0][0]']          \n",
            " tion)                                                                                            \n",
            "                                                                                                  \n",
            " block3b_se_squeeze (Global  (None, 240)                  0         ['block3b_activation[0][0]']  \n",
            " AveragePooling2D)                                                                                \n",
            "                                                                                                  \n",
            " block3b_se_reshape (Reshap  (None, 1, 1, 240)            0         ['block3b_se_squeeze[0][0]']  \n",
            " e)                                                                                               \n",
            "                                                                                                  \n",
            " block3b_se_reduce (Conv2D)  (None, 1, 1, 10)             2410      ['block3b_se_reshape[0][0]']  \n",
            "                                                                                                  \n",
            " block3b_se_expand (Conv2D)  (None, 1, 1, 240)            2640      ['block3b_se_reduce[0][0]']   \n",
            "                                                                                                  \n",
            " block3b_se_excite (Multipl  (None, 28, 28, 240)          0         ['block3b_activation[0][0]',  \n",
            " y)                                                                  'block3b_se_expand[0][0]']   \n",
            "                                                                                                  \n",
            " block3b_project_conv (Conv  (None, 28, 28, 40)           9600      ['block3b_se_excite[0][0]']   \n",
            " 2D)                                                                                              \n",
            "                                                                                                  \n",
            " block3b_project_bn (BatchN  (None, 28, 28, 40)           160       ['block3b_project_conv[0][0]']\n",
            " ormalization)                                                                                    \n",
            "                                                                                                  \n",
            " block3b_drop (Dropout)      (None, 28, 28, 40)           0         ['block3b_project_bn[0][0]']  \n",
            "                                                                                                  \n",
            " block3b_add (Add)           (None, 28, 28, 40)           0         ['block3b_drop[0][0]',        \n",
            "                                                                     'block3a_project_bn[0][0]']  \n",
            "                                                                                                  \n",
            " block4a_expand_conv (Conv2  (None, 28, 28, 240)          9600      ['block3b_add[0][0]']         \n",
            " D)                                                                                               \n",
            "                                                                                                  \n",
            " block4a_expand_bn (BatchNo  (None, 28, 28, 240)          960       ['block4a_expand_conv[0][0]'] \n",
            " rmalization)                                                                                     \n",
            "                                                                                                  \n",
            " block4a_expand_activation   (None, 28, 28, 240)          0         ['block4a_expand_bn[0][0]']   \n",
            " (Activation)                                                                                     \n",
            "                                                                                                  \n",
            " block4a_dwconv_pad (ZeroPa  (None, 29, 29, 240)          0         ['block4a_expand_activation[0]\n",
            " dding2D)                                                           [0]']                         \n",
            "                                                                                                  \n",
            " block4a_dwconv (DepthwiseC  (None, 14, 14, 240)          2160      ['block4a_dwconv_pad[0][0]']  \n",
            " onv2D)                                                                                           \n",
            "                                                                                                  \n",
            " block4a_bn (BatchNormaliza  (None, 14, 14, 240)          960       ['block4a_dwconv[0][0]']      \n",
            " tion)                                                                                            \n",
            "                                                                                                  \n",
            " block4a_activation (Activa  (None, 14, 14, 240)          0         ['block4a_bn[0][0]']          \n",
            " tion)                                                                                            \n",
            "                                                                                                  \n",
            " block4a_se_squeeze (Global  (None, 240)                  0         ['block4a_activation[0][0]']  \n",
            " AveragePooling2D)                                                                                \n",
            "                                                                                                  \n",
            " block4a_se_reshape (Reshap  (None, 1, 1, 240)            0         ['block4a_se_squeeze[0][0]']  \n",
            " e)                                                                                               \n",
            "                                                                                                  \n",
            " block4a_se_reduce (Conv2D)  (None, 1, 1, 10)             2410      ['block4a_se_reshape[0][0]']  \n",
            "                                                                                                  \n",
            " block4a_se_expand (Conv2D)  (None, 1, 1, 240)            2640      ['block4a_se_reduce[0][0]']   \n",
            "                                                                                                  \n",
            " block4a_se_excite (Multipl  (None, 14, 14, 240)          0         ['block4a_activation[0][0]',  \n",
            " y)                                                                  'block4a_se_expand[0][0]']   \n",
            "                                                                                                  \n",
            " block4a_project_conv (Conv  (None, 14, 14, 80)           19200     ['block4a_se_excite[0][0]']   \n",
            " 2D)                                                                                              \n",
            "                                                                                                  \n",
            " block4a_project_bn (BatchN  (None, 14, 14, 80)           320       ['block4a_project_conv[0][0]']\n",
            " ormalization)                                                                                    \n",
            "                                                                                                  \n",
            " block4b_expand_conv (Conv2  (None, 14, 14, 480)          38400     ['block4a_project_bn[0][0]']  \n",
            " D)                                                                                               \n",
            "                                                                                                  \n",
            " block4b_expand_bn (BatchNo  (None, 14, 14, 480)          1920      ['block4b_expand_conv[0][0]'] \n",
            " rmalization)                                                                                     \n",
            "                                                                                                  \n",
            " block4b_expand_activation   (None, 14, 14, 480)          0         ['block4b_expand_bn[0][0]']   \n",
            " (Activation)                                                                                     \n",
            "                                                                                                  \n",
            " block4b_dwconv (DepthwiseC  (None, 14, 14, 480)          4320      ['block4b_expand_activation[0]\n",
            " onv2D)                                                             [0]']                         \n",
            "                                                                                                  \n",
            " block4b_bn (BatchNormaliza  (None, 14, 14, 480)          1920      ['block4b_dwconv[0][0]']      \n",
            " tion)                                                                                            \n",
            "                                                                                                  \n",
            " block4b_activation (Activa  (None, 14, 14, 480)          0         ['block4b_bn[0][0]']          \n",
            " tion)                                                                                            \n",
            "                                                                                                  \n",
            " block4b_se_squeeze (Global  (None, 480)                  0         ['block4b_activation[0][0]']  \n",
            " AveragePooling2D)                                                                                \n",
            "                                                                                                  \n",
            " block4b_se_reshape (Reshap  (None, 1, 1, 480)            0         ['block4b_se_squeeze[0][0]']  \n",
            " e)                                                                                               \n",
            "                                                                                                  \n",
            " block4b_se_reduce (Conv2D)  (None, 1, 1, 20)             9620      ['block4b_se_reshape[0][0]']  \n",
            "                                                                                                  \n",
            " block4b_se_expand (Conv2D)  (None, 1, 1, 480)            10080     ['block4b_se_reduce[0][0]']   \n",
            "                                                                                                  \n",
            " block4b_se_excite (Multipl  (None, 14, 14, 480)          0         ['block4b_activation[0][0]',  \n",
            " y)                                                                  'block4b_se_expand[0][0]']   \n",
            "                                                                                                  \n",
            " block4b_project_conv (Conv  (None, 14, 14, 80)           38400     ['block4b_se_excite[0][0]']   \n",
            " 2D)                                                                                              \n",
            "                                                                                                  \n",
            " block4b_project_bn (BatchN  (None, 14, 14, 80)           320       ['block4b_project_conv[0][0]']\n",
            " ormalization)                                                                                    \n",
            "                                                                                                  \n",
            " block4b_drop (Dropout)      (None, 14, 14, 80)           0         ['block4b_project_bn[0][0]']  \n",
            "                                                                                                  \n",
            " block4b_add (Add)           (None, 14, 14, 80)           0         ['block4b_drop[0][0]',        \n",
            "                                                                     'block4a_project_bn[0][0]']  \n",
            "                                                                                                  \n",
            " block4c_expand_conv (Conv2  (None, 14, 14, 480)          38400     ['block4b_add[0][0]']         \n",
            " D)                                                                                               \n",
            "                                                                                                  \n",
            " block4c_expand_bn (BatchNo  (None, 14, 14, 480)          1920      ['block4c_expand_conv[0][0]'] \n",
            " rmalization)                                                                                     \n",
            "                                                                                                  \n",
            " block4c_expand_activation   (None, 14, 14, 480)          0         ['block4c_expand_bn[0][0]']   \n",
            " (Activation)                                                                                     \n",
            "                                                                                                  \n",
            " block4c_dwconv (DepthwiseC  (None, 14, 14, 480)          4320      ['block4c_expand_activation[0]\n",
            " onv2D)                                                             [0]']                         \n",
            "                                                                                                  \n",
            " block4c_bn (BatchNormaliza  (None, 14, 14, 480)          1920      ['block4c_dwconv[0][0]']      \n",
            " tion)                                                                                            \n",
            "                                                                                                  \n",
            " block4c_activation (Activa  (None, 14, 14, 480)          0         ['block4c_bn[0][0]']          \n",
            " tion)                                                                                            \n",
            "                                                                                                  \n",
            " block4c_se_squeeze (Global  (None, 480)                  0         ['block4c_activation[0][0]']  \n",
            " AveragePooling2D)                                                                                \n",
            "                                                                                                  \n",
            " block4c_se_reshape (Reshap  (None, 1, 1, 480)            0         ['block4c_se_squeeze[0][0]']  \n",
            " e)                                                                                               \n",
            "                                                                                                  \n",
            " block4c_se_reduce (Conv2D)  (None, 1, 1, 20)             9620      ['block4c_se_reshape[0][0]']  \n",
            "                                                                                                  \n",
            " block4c_se_expand (Conv2D)  (None, 1, 1, 480)            10080     ['block4c_se_reduce[0][0]']   \n",
            "                                                                                                  \n",
            " block4c_se_excite (Multipl  (None, 14, 14, 480)          0         ['block4c_activation[0][0]',  \n",
            " y)                                                                  'block4c_se_expand[0][0]']   \n",
            "                                                                                                  \n",
            " block4c_project_conv (Conv  (None, 14, 14, 80)           38400     ['block4c_se_excite[0][0]']   \n",
            " 2D)                                                                                              \n",
            "                                                                                                  \n",
            " block4c_project_bn (BatchN  (None, 14, 14, 80)           320       ['block4c_project_conv[0][0]']\n",
            " ormalization)                                                                                    \n",
            "                                                                                                  \n",
            " block4c_drop (Dropout)      (None, 14, 14, 80)           0         ['block4c_project_bn[0][0]']  \n",
            "                                                                                                  \n",
            " block4c_add (Add)           (None, 14, 14, 80)           0         ['block4c_drop[0][0]',        \n",
            "                                                                     'block4b_add[0][0]']         \n",
            "                                                                                                  \n",
            " block5a_expand_conv (Conv2  (None, 14, 14, 480)          38400     ['block4c_add[0][0]']         \n",
            " D)                                                                                               \n",
            "                                                                                                  \n",
            " block5a_expand_bn (BatchNo  (None, 14, 14, 480)          1920      ['block5a_expand_conv[0][0]'] \n",
            " rmalization)                                                                                     \n",
            "                                                                                                  \n",
            " block5a_expand_activation   (None, 14, 14, 480)          0         ['block5a_expand_bn[0][0]']   \n",
            " (Activation)                                                                                     \n",
            "                                                                                                  \n",
            " block5a_dwconv (DepthwiseC  (None, 14, 14, 480)          12000     ['block5a_expand_activation[0]\n",
            " onv2D)                                                             [0]']                         \n",
            "                                                                                                  \n",
            " block5a_bn (BatchNormaliza  (None, 14, 14, 480)          1920      ['block5a_dwconv[0][0]']      \n",
            " tion)                                                                                            \n",
            "                                                                                                  \n",
            " block5a_activation (Activa  (None, 14, 14, 480)          0         ['block5a_bn[0][0]']          \n",
            " tion)                                                                                            \n",
            "                                                                                                  \n",
            " block5a_se_squeeze (Global  (None, 480)                  0         ['block5a_activation[0][0]']  \n",
            " AveragePooling2D)                                                                                \n",
            "                                                                                                  \n",
            " block5a_se_reshape (Reshap  (None, 1, 1, 480)            0         ['block5a_se_squeeze[0][0]']  \n",
            " e)                                                                                               \n",
            "                                                                                                  \n",
            " block5a_se_reduce (Conv2D)  (None, 1, 1, 20)             9620      ['block5a_se_reshape[0][0]']  \n",
            "                                                                                                  \n",
            " block5a_se_expand (Conv2D)  (None, 1, 1, 480)            10080     ['block5a_se_reduce[0][0]']   \n",
            "                                                                                                  \n",
            " block5a_se_excite (Multipl  (None, 14, 14, 480)          0         ['block5a_activation[0][0]',  \n",
            " y)                                                                  'block5a_se_expand[0][0]']   \n",
            "                                                                                                  \n",
            " block5a_project_conv (Conv  (None, 14, 14, 112)          53760     ['block5a_se_excite[0][0]']   \n",
            " 2D)                                                                                              \n",
            "                                                                                                  \n",
            " block5a_project_bn (BatchN  (None, 14, 14, 112)          448       ['block5a_project_conv[0][0]']\n",
            " ormalization)                                                                                    \n",
            "                                                                                                  \n",
            " block5b_expand_conv (Conv2  (None, 14, 14, 672)          75264     ['block5a_project_bn[0][0]']  \n",
            " D)                                                                                               \n",
            "                                                                                                  \n",
            " block5b_expand_bn (BatchNo  (None, 14, 14, 672)          2688      ['block5b_expand_conv[0][0]'] \n",
            " rmalization)                                                                                     \n",
            "                                                                                                  \n",
            " block5b_expand_activation   (None, 14, 14, 672)          0         ['block5b_expand_bn[0][0]']   \n",
            " (Activation)                                                                                     \n",
            "                                                                                                  \n",
            " block5b_dwconv (DepthwiseC  (None, 14, 14, 672)          16800     ['block5b_expand_activation[0]\n",
            " onv2D)                                                             [0]']                         \n",
            "                                                                                                  \n",
            " block5b_bn (BatchNormaliza  (None, 14, 14, 672)          2688      ['block5b_dwconv[0][0]']      \n",
            " tion)                                                                                            \n",
            "                                                                                                  \n",
            " block5b_activation (Activa  (None, 14, 14, 672)          0         ['block5b_bn[0][0]']          \n",
            " tion)                                                                                            \n",
            "                                                                                                  \n",
            " block5b_se_squeeze (Global  (None, 672)                  0         ['block5b_activation[0][0]']  \n",
            " AveragePooling2D)                                                                                \n",
            "                                                                                                  \n",
            " block5b_se_reshape (Reshap  (None, 1, 1, 672)            0         ['block5b_se_squeeze[0][0]']  \n",
            " e)                                                                                               \n",
            "                                                                                                  \n",
            " block5b_se_reduce (Conv2D)  (None, 1, 1, 28)             18844     ['block5b_se_reshape[0][0]']  \n",
            "                                                                                                  \n",
            " block5b_se_expand (Conv2D)  (None, 1, 1, 672)            19488     ['block5b_se_reduce[0][0]']   \n",
            "                                                                                                  \n",
            " block5b_se_excite (Multipl  (None, 14, 14, 672)          0         ['block5b_activation[0][0]',  \n",
            " y)                                                                  'block5b_se_expand[0][0]']   \n",
            "                                                                                                  \n",
            " block5b_project_conv (Conv  (None, 14, 14, 112)          75264     ['block5b_se_excite[0][0]']   \n",
            " 2D)                                                                                              \n",
            "                                                                                                  \n",
            " block5b_project_bn (BatchN  (None, 14, 14, 112)          448       ['block5b_project_conv[0][0]']\n",
            " ormalization)                                                                                    \n",
            "                                                                                                  \n",
            " block5b_drop (Dropout)      (None, 14, 14, 112)          0         ['block5b_project_bn[0][0]']  \n",
            "                                                                                                  \n",
            " block5b_add (Add)           (None, 14, 14, 112)          0         ['block5b_drop[0][0]',        \n",
            "                                                                     'block5a_project_bn[0][0]']  \n",
            "                                                                                                  \n",
            " block5c_expand_conv (Conv2  (None, 14, 14, 672)          75264     ['block5b_add[0][0]']         \n",
            " D)                                                                                               \n",
            "                                                                                                  \n",
            " block5c_expand_bn (BatchNo  (None, 14, 14, 672)          2688      ['block5c_expand_conv[0][0]'] \n",
            " rmalization)                                                                                     \n",
            "                                                                                                  \n",
            " block5c_expand_activation   (None, 14, 14, 672)          0         ['block5c_expand_bn[0][0]']   \n",
            " (Activation)                                                                                     \n",
            "                                                                                                  \n",
            " block5c_dwconv (DepthwiseC  (None, 14, 14, 672)          16800     ['block5c_expand_activation[0]\n",
            " onv2D)                                                             [0]']                         \n",
            "                                                                                                  \n",
            " block5c_bn (BatchNormaliza  (None, 14, 14, 672)          2688      ['block5c_dwconv[0][0]']      \n",
            " tion)                                                                                            \n",
            "                                                                                                  \n",
            " block5c_activation (Activa  (None, 14, 14, 672)          0         ['block5c_bn[0][0]']          \n",
            " tion)                                                                                            \n",
            "                                                                                                  \n",
            " block5c_se_squeeze (Global  (None, 672)                  0         ['block5c_activation[0][0]']  \n",
            " AveragePooling2D)                                                                                \n",
            "                                                                                                  \n",
            " block5c_se_reshape (Reshap  (None, 1, 1, 672)            0         ['block5c_se_squeeze[0][0]']  \n",
            " e)                                                                                               \n",
            "                                                                                                  \n",
            " block5c_se_reduce (Conv2D)  (None, 1, 1, 28)             18844     ['block5c_se_reshape[0][0]']  \n",
            "                                                                                                  \n",
            " block5c_se_expand (Conv2D)  (None, 1, 1, 672)            19488     ['block5c_se_reduce[0][0]']   \n",
            "                                                                                                  \n",
            " block5c_se_excite (Multipl  (None, 14, 14, 672)          0         ['block5c_activation[0][0]',  \n",
            " y)                                                                  'block5c_se_expand[0][0]']   \n",
            "                                                                                                  \n",
            " block5c_project_conv (Conv  (None, 14, 14, 112)          75264     ['block5c_se_excite[0][0]']   \n",
            " 2D)                                                                                              \n",
            "                                                                                                  \n",
            " block5c_project_bn (BatchN  (None, 14, 14, 112)          448       ['block5c_project_conv[0][0]']\n",
            " ormalization)                                                                                    \n",
            "                                                                                                  \n",
            " block5c_drop (Dropout)      (None, 14, 14, 112)          0         ['block5c_project_bn[0][0]']  \n",
            "                                                                                                  \n",
            " block5c_add (Add)           (None, 14, 14, 112)          0         ['block5c_drop[0][0]',        \n",
            "                                                                     'block5b_add[0][0]']         \n",
            "                                                                                                  \n",
            " block6a_expand_conv (Conv2  (None, 14, 14, 672)          75264     ['block5c_add[0][0]']         \n",
            " D)                                                                                               \n",
            "                                                                                                  \n",
            " block6a_expand_bn (BatchNo  (None, 14, 14, 672)          2688      ['block6a_expand_conv[0][0]'] \n",
            " rmalization)                                                                                     \n",
            "                                                                                                  \n",
            " block6a_expand_activation   (None, 14, 14, 672)          0         ['block6a_expand_bn[0][0]']   \n",
            " (Activation)                                                                                     \n",
            "                                                                                                  \n",
            " block6a_dwconv_pad (ZeroPa  (None, 17, 17, 672)          0         ['block6a_expand_activation[0]\n",
            " dding2D)                                                           [0]']                         \n",
            "                                                                                                  \n",
            " block6a_dwconv (DepthwiseC  (None, 7, 7, 672)            16800     ['block6a_dwconv_pad[0][0]']  \n",
            " onv2D)                                                                                           \n",
            "                                                                                                  \n",
            " block6a_bn (BatchNormaliza  (None, 7, 7, 672)            2688      ['block6a_dwconv[0][0]']      \n",
            " tion)                                                                                            \n",
            "                                                                                                  \n",
            " block6a_activation (Activa  (None, 7, 7, 672)            0         ['block6a_bn[0][0]']          \n",
            " tion)                                                                                            \n",
            "                                                                                                  \n",
            " block6a_se_squeeze (Global  (None, 672)                  0         ['block6a_activation[0][0]']  \n",
            " AveragePooling2D)                                                                                \n",
            "                                                                                                  \n",
            " block6a_se_reshape (Reshap  (None, 1, 1, 672)            0         ['block6a_se_squeeze[0][0]']  \n",
            " e)                                                                                               \n",
            "                                                                                                  \n",
            " block6a_se_reduce (Conv2D)  (None, 1, 1, 28)             18844     ['block6a_se_reshape[0][0]']  \n",
            "                                                                                                  \n",
            " block6a_se_expand (Conv2D)  (None, 1, 1, 672)            19488     ['block6a_se_reduce[0][0]']   \n",
            "                                                                                                  \n",
            " block6a_se_excite (Multipl  (None, 7, 7, 672)            0         ['block6a_activation[0][0]',  \n",
            " y)                                                                  'block6a_se_expand[0][0]']   \n",
            "                                                                                                  \n",
            " block6a_project_conv (Conv  (None, 7, 7, 192)            129024    ['block6a_se_excite[0][0]']   \n",
            " 2D)                                                                                              \n",
            "                                                                                                  \n",
            " block6a_project_bn (BatchN  (None, 7, 7, 192)            768       ['block6a_project_conv[0][0]']\n",
            " ormalization)                                                                                    \n",
            "                                                                                                  \n",
            " block6b_expand_conv (Conv2  (None, 7, 7, 1152)           221184    ['block6a_project_bn[0][0]']  \n",
            " D)                                                                                               \n",
            "                                                                                                  \n",
            " block6b_expand_bn (BatchNo  (None, 7, 7, 1152)           4608      ['block6b_expand_conv[0][0]'] \n",
            " rmalization)                                                                                     \n",
            "                                                                                                  \n",
            " block6b_expand_activation   (None, 7, 7, 1152)           0         ['block6b_expand_bn[0][0]']   \n",
            " (Activation)                                                                                     \n",
            "                                                                                                  \n",
            " block6b_dwconv (DepthwiseC  (None, 7, 7, 1152)           28800     ['block6b_expand_activation[0]\n",
            " onv2D)                                                             [0]']                         \n",
            "                                                                                                  \n",
            " block6b_bn (BatchNormaliza  (None, 7, 7, 1152)           4608      ['block6b_dwconv[0][0]']      \n",
            " tion)                                                                                            \n",
            "                                                                                                  \n",
            " block6b_activation (Activa  (None, 7, 7, 1152)           0         ['block6b_bn[0][0]']          \n",
            " tion)                                                                                            \n",
            "                                                                                                  \n",
            " block6b_se_squeeze (Global  (None, 1152)                 0         ['block6b_activation[0][0]']  \n",
            " AveragePooling2D)                                                                                \n",
            "                                                                                                  \n",
            " block6b_se_reshape (Reshap  (None, 1, 1, 1152)           0         ['block6b_se_squeeze[0][0]']  \n",
            " e)                                                                                               \n",
            "                                                                                                  \n",
            " block6b_se_reduce (Conv2D)  (None, 1, 1, 48)             55344     ['block6b_se_reshape[0][0]']  \n",
            "                                                                                                  \n",
            " block6b_se_expand (Conv2D)  (None, 1, 1, 1152)           56448     ['block6b_se_reduce[0][0]']   \n",
            "                                                                                                  \n",
            " block6b_se_excite (Multipl  (None, 7, 7, 1152)           0         ['block6b_activation[0][0]',  \n",
            " y)                                                                  'block6b_se_expand[0][0]']   \n",
            "                                                                                                  \n",
            " block6b_project_conv (Conv  (None, 7, 7, 192)            221184    ['block6b_se_excite[0][0]']   \n",
            " 2D)                                                                                              \n",
            "                                                                                                  \n",
            " block6b_project_bn (BatchN  (None, 7, 7, 192)            768       ['block6b_project_conv[0][0]']\n",
            " ormalization)                                                                                    \n",
            "                                                                                                  \n",
            " block6b_drop (Dropout)      (None, 7, 7, 192)            0         ['block6b_project_bn[0][0]']  \n",
            "                                                                                                  \n",
            " block6b_add (Add)           (None, 7, 7, 192)            0         ['block6b_drop[0][0]',        \n",
            "                                                                     'block6a_project_bn[0][0]']  \n",
            "                                                                                                  \n",
            " block6c_expand_conv (Conv2  (None, 7, 7, 1152)           221184    ['block6b_add[0][0]']         \n",
            " D)                                                                                               \n",
            "                                                                                                  \n",
            " block6c_expand_bn (BatchNo  (None, 7, 7, 1152)           4608      ['block6c_expand_conv[0][0]'] \n",
            " rmalization)                                                                                     \n",
            "                                                                                                  \n",
            " block6c_expand_activation   (None, 7, 7, 1152)           0         ['block6c_expand_bn[0][0]']   \n",
            " (Activation)                                                                                     \n",
            "                                                                                                  \n",
            " block6c_dwconv (DepthwiseC  (None, 7, 7, 1152)           28800     ['block6c_expand_activation[0]\n",
            " onv2D)                                                             [0]']                         \n",
            "                                                                                                  \n",
            " block6c_bn (BatchNormaliza  (None, 7, 7, 1152)           4608      ['block6c_dwconv[0][0]']      \n",
            " tion)                                                                                            \n",
            "                                                                                                  \n",
            " block6c_activation (Activa  (None, 7, 7, 1152)           0         ['block6c_bn[0][0]']          \n",
            " tion)                                                                                            \n",
            "                                                                                                  \n",
            " block6c_se_squeeze (Global  (None, 1152)                 0         ['block6c_activation[0][0]']  \n",
            " AveragePooling2D)                                                                                \n",
            "                                                                                                  \n",
            " block6c_se_reshape (Reshap  (None, 1, 1, 1152)           0         ['block6c_se_squeeze[0][0]']  \n",
            " e)                                                                                               \n",
            "                                                                                                  \n",
            " block6c_se_reduce (Conv2D)  (None, 1, 1, 48)             55344     ['block6c_se_reshape[0][0]']  \n",
            "                                                                                                  \n",
            " block6c_se_expand (Conv2D)  (None, 1, 1, 1152)           56448     ['block6c_se_reduce[0][0]']   \n",
            "                                                                                                  \n",
            " block6c_se_excite (Multipl  (None, 7, 7, 1152)           0         ['block6c_activation[0][0]',  \n",
            " y)                                                                  'block6c_se_expand[0][0]']   \n",
            "                                                                                                  \n",
            " block6c_project_conv (Conv  (None, 7, 7, 192)            221184    ['block6c_se_excite[0][0]']   \n",
            " 2D)                                                                                              \n",
            "                                                                                                  \n",
            " block6c_project_bn (BatchN  (None, 7, 7, 192)            768       ['block6c_project_conv[0][0]']\n",
            " ormalization)                                                                                    \n",
            "                                                                                                  \n",
            " block6c_drop (Dropout)      (None, 7, 7, 192)            0         ['block6c_project_bn[0][0]']  \n",
            "                                                                                                  \n",
            " block6c_add (Add)           (None, 7, 7, 192)            0         ['block6c_drop[0][0]',        \n",
            "                                                                     'block6b_add[0][0]']         \n",
            "                                                                                                  \n",
            " block6d_expand_conv (Conv2  (None, 7, 7, 1152)           221184    ['block6c_add[0][0]']         \n",
            " D)                                                                                               \n",
            "                                                                                                  \n",
            " block6d_expand_bn (BatchNo  (None, 7, 7, 1152)           4608      ['block6d_expand_conv[0][0]'] \n",
            " rmalization)                                                                                     \n",
            "                                                                                                  \n",
            " block6d_expand_activation   (None, 7, 7, 1152)           0         ['block6d_expand_bn[0][0]']   \n",
            " (Activation)                                                                                     \n",
            "                                                                                                  \n",
            " block6d_dwconv (DepthwiseC  (None, 7, 7, 1152)           28800     ['block6d_expand_activation[0]\n",
            " onv2D)                                                             [0]']                         \n",
            "                                                                                                  \n",
            " block6d_bn (BatchNormaliza  (None, 7, 7, 1152)           4608      ['block6d_dwconv[0][0]']      \n",
            " tion)                                                                                            \n",
            "                                                                                                  \n",
            " block6d_activation (Activa  (None, 7, 7, 1152)           0         ['block6d_bn[0][0]']          \n",
            " tion)                                                                                            \n",
            "                                                                                                  \n",
            " block6d_se_squeeze (Global  (None, 1152)                 0         ['block6d_activation[0][0]']  \n",
            " AveragePooling2D)                                                                                \n",
            "                                                                                                  \n",
            " block6d_se_reshape (Reshap  (None, 1, 1, 1152)           0         ['block6d_se_squeeze[0][0]']  \n",
            " e)                                                                                               \n",
            "                                                                                                  \n",
            " block6d_se_reduce (Conv2D)  (None, 1, 1, 48)             55344     ['block6d_se_reshape[0][0]']  \n",
            "                                                                                                  \n",
            " block6d_se_expand (Conv2D)  (None, 1, 1, 1152)           56448     ['block6d_se_reduce[0][0]']   \n",
            "                                                                                                  \n",
            " block6d_se_excite (Multipl  (None, 7, 7, 1152)           0         ['block6d_activation[0][0]',  \n",
            " y)                                                                  'block6d_se_expand[0][0]']   \n",
            "                                                                                                  \n",
            " block6d_project_conv (Conv  (None, 7, 7, 192)            221184    ['block6d_se_excite[0][0]']   \n",
            " 2D)                                                                                              \n",
            "                                                                                                  \n",
            " block6d_project_bn (BatchN  (None, 7, 7, 192)            768       ['block6d_project_conv[0][0]']\n",
            " ormalization)                                                                                    \n",
            "                                                                                                  \n",
            " block6d_drop (Dropout)      (None, 7, 7, 192)            0         ['block6d_project_bn[0][0]']  \n",
            "                                                                                                  \n",
            " block6d_add (Add)           (None, 7, 7, 192)            0         ['block6d_drop[0][0]',        \n",
            "                                                                     'block6c_add[0][0]']         \n",
            "                                                                                                  \n",
            " block7a_expand_conv (Conv2  (None, 7, 7, 1152)           221184    ['block6d_add[0][0]']         \n",
            " D)                                                                                               \n",
            "                                                                                                  \n",
            " block7a_expand_bn (BatchNo  (None, 7, 7, 1152)           4608      ['block7a_expand_conv[0][0]'] \n",
            " rmalization)                                                                                     \n",
            "                                                                                                  \n",
            " block7a_expand_activation   (None, 7, 7, 1152)           0         ['block7a_expand_bn[0][0]']   \n",
            " (Activation)                                                                                     \n",
            "                                                                                                  \n",
            " block7a_dwconv (DepthwiseC  (None, 7, 7, 1152)           10368     ['block7a_expand_activation[0]\n",
            " onv2D)                                                             [0]']                         \n",
            "                                                                                                  \n",
            " block7a_bn (BatchNormaliza  (None, 7, 7, 1152)           4608      ['block7a_dwconv[0][0]']      \n",
            " tion)                                                                                            \n",
            "                                                                                                  \n",
            " block7a_activation (Activa  (None, 7, 7, 1152)           0         ['block7a_bn[0][0]']          \n",
            " tion)                                                                                            \n",
            "                                                                                                  \n",
            " block7a_se_squeeze (Global  (None, 1152)                 0         ['block7a_activation[0][0]']  \n",
            " AveragePooling2D)                                                                                \n",
            "                                                                                                  \n",
            " block7a_se_reshape (Reshap  (None, 1, 1, 1152)           0         ['block7a_se_squeeze[0][0]']  \n",
            " e)                                                                                               \n",
            "                                                                                                  \n",
            " block7a_se_reduce (Conv2D)  (None, 1, 1, 48)             55344     ['block7a_se_reshape[0][0]']  \n",
            "                                                                                                  \n",
            " block7a_se_expand (Conv2D)  (None, 1, 1, 1152)           56448     ['block7a_se_reduce[0][0]']   \n",
            "                                                                                                  \n",
            " block7a_se_excite (Multipl  (None, 7, 7, 1152)           0         ['block7a_activation[0][0]',  \n",
            " y)                                                                  'block7a_se_expand[0][0]']   \n",
            "                                                                                                  \n",
            " block7a_project_conv (Conv  (None, 7, 7, 320)            368640    ['block7a_se_excite[0][0]']   \n",
            " 2D)                                                                                              \n",
            "                                                                                                  \n",
            " block7a_project_bn (BatchN  (None, 7, 7, 320)            1280      ['block7a_project_conv[0][0]']\n",
            " ormalization)                                                                                    \n",
            "                                                                                                  \n",
            " top_conv (Conv2D)           (None, 7, 7, 1280)           409600    ['block7a_project_bn[0][0]']  \n",
            "                                                                                                  \n",
            " top_bn (BatchNormalization  (None, 7, 7, 1280)           5120      ['top_conv[0][0]']            \n",
            " )                                                                                                \n",
            "                                                                                                  \n",
            " top_activation (Activation  (None, 7, 7, 1280)           0         ['top_bn[0][0]']              \n",
            " )                                                                                                \n",
            "                                                                                                  \n",
            " global_average_pooling2d_6  (None, 1280)                 0         ['top_activation[0][0]']      \n",
            "  (GlobalAveragePooling2D)                                                                        \n",
            "                                                                                                  \n",
            " dense_20 (Dense)            (None, 64)                   81984     ['global_average_pooling2d_6[0\n",
            "                                                                    ][0]']                        \n",
            "                                                                                                  \n",
            " dense_21 (Dense)            (None, 64)                   4160      ['dense_20[0][0]']            \n",
            "                                                                                                  \n",
            " dense_22 (Dense)            (None, 6)                    390       ['dense_21[0][0]']            \n",
            "                                                                                                  \n",
            "==================================================================================================\n",
            "Total params: 4136105 (15.78 MB)\n",
            "Trainable params: 86534 (338.02 KB)\n",
            "Non-trainable params: 4049571 (15.45 MB)\n",
            "__________________________________________________________________________________________________\n"
          ]
        }
      ],
      "source": [
        "model.summary()"
      ]
    },
    {
      "cell_type": "markdown",
      "source": [
        "# Conjunto de teste"
      ],
      "metadata": {
        "id": "VH5oMUyfZiS-"
      },
      "id": "VH5oMUyfZiS-"
    },
    {
      "cell_type": "markdown",
      "source": [
        "- Referente a última iteração"
      ],
      "metadata": {
        "id": "tzsu1jcjZ4bv"
      },
      "id": "tzsu1jcjZ4bv"
    },
    {
      "cell_type": "code",
      "execution_count": 103,
      "id": "f8b21480-7243-4b9b-80e2-6c642f4290f3",
      "metadata": {
        "id": "f8b21480-7243-4b9b-80e2-6c642f4290f3",
        "outputId": "3a18f5e7-a47c-4626-f149-f64ac5aa1663",
        "colab": {
          "base_uri": "https://localhost:8080/"
        }
      },
      "outputs": [
        {
          "output_type": "stream",
          "name": "stdout",
          "text": [
            "225/225 [==============================] - 212s 938ms/step - loss: 1.6706e-04 - accuracy: 1.0000\n"
          ]
        }
      ],
      "source": [
        "loss, acc = model.evaluate(test_ds)"
      ]
    },
    {
      "cell_type": "markdown",
      "source": [
        "- Loss"
      ],
      "metadata": {
        "id": "-YgaGFBxIsJF"
      },
      "id": "-YgaGFBxIsJF"
    },
    {
      "cell_type": "code",
      "source": [
        "loss"
      ],
      "metadata": {
        "id": "gGKO69tdIxTw",
        "outputId": "fa3cec70-bc91-42a0-fb3d-68790193e665",
        "colab": {
          "base_uri": "https://localhost:8080/"
        }
      },
      "id": "gGKO69tdIxTw",
      "execution_count": 107,
      "outputs": [
        {
          "output_type": "execute_result",
          "data": {
            "text/plain": [
              "0.00016705798043403774"
            ]
          },
          "metadata": {},
          "execution_count": 107
        }
      ]
    },
    {
      "cell_type": "markdown",
      "source": [
        "- Accuracy\n"
      ],
      "metadata": {
        "id": "hn487wUkIu5J"
      },
      "id": "hn487wUkIu5J"
    },
    {
      "cell_type": "code",
      "source": [
        "acc"
      ],
      "metadata": {
        "id": "t2PdMtp8Iy7r",
        "outputId": "acd1d228-f8e3-4a86-d917-2eecf7c4da8e",
        "colab": {
          "base_uri": "https://localhost:8080/"
        }
      },
      "id": "t2PdMtp8Iy7r",
      "execution_count": 108,
      "outputs": [
        {
          "output_type": "execute_result",
          "data": {
            "text/plain": [
              "1.0"
            ]
          },
          "metadata": {},
          "execution_count": 108
        }
      ]
    },
    {
      "cell_type": "markdown",
      "source": [
        "# Gráficos"
      ],
      "metadata": {
        "id": "H3sDiCaoZkXx"
      },
      "id": "H3sDiCaoZkXx"
    },
    {
      "cell_type": "code",
      "execution_count": 104,
      "id": "bf9e3f28-66df-4615-bbac-d37f16760781",
      "metadata": {
        "id": "bf9e3f28-66df-4615-bbac-d37f16760781",
        "outputId": "3f1ed032-2cb4-449b-8fe1-b1e31641fc8a",
        "colab": {
          "base_uri": "https://localhost:8080/",
          "height": 472
        }
      },
      "outputs": [
        {
          "output_type": "display_data",
          "data": {
            "text/plain": [
              "<Figure size 640x480 with 1 Axes>"
            ],
            "image/png": "[encoded data removed]"
          },
          "metadata": {}
        }
      ],
      "source": [
        "# Extrair métricas de precisão do histórico\n",
        "train_accuracy = history.history['accuracy']\n",
        "val_accuracy = history.history['val_accuracy']\n",
        "\n",
        "# Plotar a precisão do treinamento e da validação ao longo das épocas\n",
        "plt.plot(train_accuracy, label='Training Accuracy')\n",
        "plt.plot(val_accuracy, label='Validation Accuracy')\n",
        "plt.xlabel('Epoch')\n",
        "plt.ylabel('Accuracy')\n",
        "plt.title('Training and Validation Accuracy')\n",
        "plt.legend()\n",
        "plt.show()\n"
      ]
    },
    {
      "cell_type": "code",
      "execution_count": 106,
      "id": "0eaa6543-ed03-40d7-ad2d-999deafd0142",
      "metadata": {
        "id": "0eaa6543-ed03-40d7-ad2d-999deafd0142",
        "outputId": "61bbabce-e7b9-4a5d-f091-a4e8be8bea5a",
        "colab": {
          "base_uri": "https://localhost:8080/",
          "height": 472
        }
      },
      "outputs": [
        {
          "output_type": "display_data",
          "data": {
            "text/plain": [
              "<Figure size 640x480 with 1 Axes>"
            ],
            "image/png": "[encoded data removed]"
          },
          "metadata": {}
        }
      ],
      "source": [
        "# Extrair métricas de perda do histórico\n",
        "train_loss = history.history['loss']\n",
        "val_loss = history.history['val_loss']\n",
        "\n",
        "# Plotar as curvas de perda durante o treinamento e a validação\n",
        "plt.plot(train_loss, label='Training Loss')\n",
        "plt.plot(val_loss, label='Validation Loss')\n",
        "plt.xlabel('Epoch')\n",
        "plt.ylabel('Loss')\n",
        "plt.title('Training and Validation Loss')\n",
        "plt.legend()\n",
        "plt.show()\n"
      ]
    },
    {
      "cell_type": "code",
      "execution_count": null,
      "id": "19c1dd3e-b102-425f-854e-6ff6ee237401",
      "metadata": {
        "id": "19c1dd3e-b102-425f-854e-6ff6ee237401"
      },
      "outputs": [],
      "source": [
        "# model.save('./CountFinger1.keras')"
      ]
    }
  ],
  "metadata": {
    "kernelspec": {
      "display_name": "Python 3 (ipykernel)",
      "language": "python",
      "name": "python3"
    },
    "language_info": {
      "codemirror_mode": {
        "name": "ipython",
        "version": 3
      },
      "file_extension": ".py",
      "mimetype": "text/x-python",
      "name": "python",
      "nbconvert_exporter": "python",
      "pygments_lexer": "ipython3",
      "version": "3.10.5"
    },
    "colab": {
      "provenance": [],
      "collapsed_sections": [
        "BRlPr2V-QY5H",
        "tpbNQ7cKQ5Up",
        "RCcB9eHTjpBs",
        "MMUJh23hvINt",
        "SSv8tBg7vUM2",
        "N0XHepecvg5z",
        "1Bl8XRojviIK",
        "5wz11pP50AHF",
        "KHdiuRJE0DwJ"
      ]
    }
  },
  "nbformat": 4,
  "nbformat_minor": 5
}