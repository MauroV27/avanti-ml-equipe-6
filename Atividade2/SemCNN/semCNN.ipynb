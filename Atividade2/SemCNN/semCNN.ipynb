{
 "cells": [
  {
   "cell_type": "code",
   "execution_count": 1,
   "id": "dae5e90e-c537-4857-b881-2dff53396995",
   "metadata": {},
   "outputs": [],
   "source": [
    "import numpy as np\n",
    "import pandas as pd\n",
    "from sklearn.ensemble import RandomForestClassifier\n",
    "from sklearn.metrics import accuracy_score, confusion_matrix, precision_score, recall_score, ConfusionMatrixDisplay\n",
    "from sklearn.model_selection import RandomizedSearchCV, train_test_split\n",
    "from scipy.stats import randint\n",
    "from sklearn.datasets import make_regression"
   ]
  },
  {
   "cell_type": "code",
   "execution_count": 2,
   "id": "f62e0313-eb13-4e24-aafb-20c7213172d5",
   "metadata": {},
   "outputs": [],
   "source": [
    "train_data = pd.read_csv(\"export-fingers-data-train.csv\")\n",
    "test_data = pd.read_csv(\"export-fingers-data-test.csv\")"
   ]
  },
  {
   "cell_type": "code",
   "execution_count": 3,
   "id": "ec02b614-85be-47e1-8587-46e694bd6bd5",
   "metadata": {},
   "outputs": [
    {
     "data": {
      "text/html": [
       "<div>\n",
       "<style scoped>\n",
       "    .dataframe tbody tr th:only-of-type {\n",
       "        vertical-align: middle;\n",
       "    }\n",
       "\n",
       "    .dataframe tbody tr th {\n",
       "        vertical-align: top;\n",
       "    }\n",
       "\n",
       "    .dataframe thead th {\n",
       "        text-align: right;\n",
       "    }\n",
       "</style>\n",
       "<table border=\"1\" class=\"dataframe\">\n",
       "  <thead>\n",
       "    <tr style=\"text-align: right;\">\n",
       "      <th></th>\n",
       "      <th>path</th>\n",
       "      <th>RightHand</th>\n",
       "      <th>FingersCound</th>\n",
       "      <th>density</th>\n",
       "      <th>angle_x</th>\n",
       "      <th>angle_y</th>\n",
       "      <th>meanX</th>\n",
       "      <th>meanY</th>\n",
       "      <th>mean_middle_point</th>\n",
       "    </tr>\n",
       "  </thead>\n",
       "  <tbody>\n",
       "    <tr>\n",
       "      <th>0</th>\n",
       "      <td>train/00048bba-979b-4f84-b833-5bbbb082b582_0L.png</td>\n",
       "      <td>0</td>\n",
       "      <td>0</td>\n",
       "      <td>0.695632</td>\n",
       "      <td>0.152649</td>\n",
       "      <td>1.478467</td>\n",
       "      <td>0.481579</td>\n",
       "      <td>0.522134</td>\n",
       "      <td>9.841392</td>\n",
       "    </tr>\n",
       "    <tr>\n",
       "      <th>1</th>\n",
       "      <td>train/000547a2-d456-4b16-b351-12ca9b40e390_0L.png</td>\n",
       "      <td>0</td>\n",
       "      <td>0</td>\n",
       "      <td>0.700680</td>\n",
       "      <td>0.218669</td>\n",
       "      <td>1.448954</td>\n",
       "      <td>0.492044</td>\n",
       "      <td>0.465029</td>\n",
       "      <td>14.627000</td>\n",
       "    </tr>\n",
       "    <tr>\n",
       "      <th>2</th>\n",
       "      <td>train/000cac8e-fcf0-4f8c-bd16-c257d1e6d7a8_2L.png</td>\n",
       "      <td>0</td>\n",
       "      <td>2</td>\n",
       "      <td>0.603233</td>\n",
       "      <td>0.993863</td>\n",
       "      <td>1.605666</td>\n",
       "      <td>0.560173</td>\n",
       "      <td>0.555149</td>\n",
       "      <td>8.117382</td>\n",
       "    </tr>\n",
       "    <tr>\n",
       "      <th>3</th>\n",
       "      <td>train/000d9961-8136-4dee-9820-86e178777958_0L.png</td>\n",
       "      <td>0</td>\n",
       "      <td>0</td>\n",
       "      <td>0.644762</td>\n",
       "      <td>0.118490</td>\n",
       "      <td>1.451367</td>\n",
       "      <td>0.480569</td>\n",
       "      <td>0.502836</td>\n",
       "      <td>6.354866</td>\n",
       "    </tr>\n",
       "    <tr>\n",
       "      <th>4</th>\n",
       "      <td>train/0010095b-2e3d-4517-a511-1f688c378f96_5L.png</td>\n",
       "      <td>0</td>\n",
       "      <td>5</td>\n",
       "      <td>0.365964</td>\n",
       "      <td>-0.223477</td>\n",
       "      <td>1.642960</td>\n",
       "      <td>0.535456</td>\n",
       "      <td>0.570493</td>\n",
       "      <td>6.777531</td>\n",
       "    </tr>\n",
       "  </tbody>\n",
       "</table>\n",
       "</div>"
      ],
      "text/plain": [
       "                                                path  RightHand  FingersCound  \\\n",
       "0  train/00048bba-979b-4f84-b833-5bbbb082b582_0L.png          0             0   \n",
       "1  train/000547a2-d456-4b16-b351-12ca9b40e390_0L.png          0             0   \n",
       "2  train/000cac8e-fcf0-4f8c-bd16-c257d1e6d7a8_2L.png          0             2   \n",
       "3  train/000d9961-8136-4dee-9820-86e178777958_0L.png          0             0   \n",
       "4  train/0010095b-2e3d-4517-a511-1f688c378f96_5L.png          0             5   \n",
       "\n",
       "    density   angle_x   angle_y     meanX     meanY   mean_middle_point   \n",
       "0  0.695632  0.152649  1.478467  0.481579  0.522134             9.841392  \n",
       "1  0.700680  0.218669  1.448954  0.492044  0.465029            14.627000  \n",
       "2  0.603233  0.993863  1.605666  0.560173  0.555149             8.117382  \n",
       "3  0.644762  0.118490  1.451367  0.480569  0.502836             6.354866  \n",
       "4  0.365964 -0.223477  1.642960  0.535456  0.570493             6.777531  "
      ]
     },
     "execution_count": 3,
     "metadata": {},
     "output_type": "execute_result"
    }
   ],
   "source": [
    "train_data.head()"
   ]
  },
  {
   "cell_type": "code",
   "execution_count": 4,
   "id": "b1dde401-94cb-4ace-a0ca-e31a64f4723e",
   "metadata": {},
   "outputs": [],
   "source": [
    "def generate_response( hand, finger_count ):\n",
    "    return ( finger_count + ( int(hand) * 6 ) )\n"
   ]
  },
  {
   "cell_type": "code",
   "execution_count": 5,
   "id": "4d32dcad-87e0-46cd-a46c-f97f26f53800",
   "metadata": {},
   "outputs": [
    {
     "name": "stdout",
     "output_type": "stream",
     "text": [
      "Esquerda 0 0\n",
      "Esquerda 1 1\n",
      "Esquerda 2 2\n",
      "Esquerda 3 3\n",
      "Esquerda 4 4\n",
      "Esquerda 5 5\n",
      "Direita 0 6\n",
      "Direita 1 7\n",
      "Direita 2 8\n",
      "Direita 3 9\n",
      "Direita 4 10\n",
      "Direita 5 11\n"
     ]
    }
   ],
   "source": [
    "HAND_MAP = {}\n",
    "\n",
    "for i in range(2): \n",
    "    for j in range(6):\n",
    "        val = generate_response(i, j)\n",
    "        hand = \"Direita\" if i == 1 else \"Esquerda\"\n",
    "        print( hand, j, val)\n",
    "        HAND_MAP[val] = f'mao: {hand}, dedos: {j}'"
   ]
  },
  {
   "cell_type": "code",
   "execution_count": 6,
   "id": "07a0b714-addb-45cf-a89f-5af5a18aa085",
   "metadata": {},
   "outputs": [],
   "source": [
    "# Aplicar a função às colunas 'RightHand' e 'FingersCount' e armazenar o resultado em uma nova coluna 'response'\n",
    "y_train = train_data.apply(lambda row: generate_response(row['RightHand'], row['FingersCound']), axis=1)\n",
    "y_test = test_data.apply(lambda row: generate_response(row['RightHand'], row['FingersCound']), axis=1)\n",
    "\n",
    "# Remover as primeiras 3 colunas ('path', 'RightHand', 'FingersCount')\n",
    "x_train = train_data.drop(['path', 'RightHand', 'FingersCound'], axis=1)\n",
    "x_test = test_data.drop(['path', 'RightHand', 'FingersCound'], axis=1)"
   ]
  },
  {
   "cell_type": "code",
   "execution_count": 7,
   "id": "9b26007c-350b-41f7-8558-4e0970178e09",
   "metadata": {},
   "outputs": [
    {
     "name": "stdout",
     "output_type": "stream",
     "text": [
      "[0, 1, 2, 3, 4, 5, 6, 7, 8, 9, 10, 11]\n",
      "--------------------\n"
     ]
    },
    {
     "data": {
      "text/plain": [
       "0        5\n",
       "1        5\n",
       "2        9\n",
       "3        5\n",
       "4        5\n",
       "        ..\n",
       "3595     8\n",
       "3596     0\n",
       "3597    10\n",
       "3598     9\n",
       "3599     9\n",
       "Length: 3600, dtype: int64"
      ]
     },
     "execution_count": 7,
     "metadata": {},
     "output_type": "execute_result"
    }
   ],
   "source": [
    "print ( sorted(y_train.unique()) )\n",
    "print(\"--------------------\")\n",
    "y_test"
   ]
  },
  {
   "cell_type": "code",
   "execution_count": 13,
   "id": "adbcc437-61e6-4977-9a55-8d0bad727549",
   "metadata": {
    "scrolled": true
   },
   "outputs": [],
   "source": [
    "# Treinando modelo \n",
    "# help(LinearRegression)"
   ]
  },
  {
   "cell_type": "code",
   "execution_count": 8,
   "id": "aa1b0d82-4df9-45fe-8d8a-746c35f57b98",
   "metadata": {},
   "outputs": [],
   "source": [
    "#model = LinearRegression(positive=True)\n",
    "model = RandomForestClassifier()"
   ]
  },
  {
   "cell_type": "code",
   "execution_count": 9,
   "id": "13c299e2-e100-413a-9d31-59812bed9536",
   "metadata": {},
   "outputs": [],
   "source": [
    "# help( model.fit )\n",
    "fit = model.fit( x_train, y_train )"
   ]
  },
  {
   "cell_type": "code",
   "execution_count": 10,
   "id": "33bee276-b783-4bf9-a1b1-c8294b906998",
   "metadata": {},
   "outputs": [],
   "source": [
    "y_pred = model.predict(x_test)"
   ]
  },
  {
   "cell_type": "code",
   "execution_count": 11,
   "id": "3df7b7fa-c77f-4734-ab56-a8619dc3afec",
   "metadata": {},
   "outputs": [
    {
     "name": "stdout",
     "output_type": "stream",
     "text": [
      "Accuracy: 0.9822222222222222\n"
     ]
    }
   ],
   "source": [
    "accuracy = accuracy_score(y_test, y_pred)\n",
    "print(\"Accuracy:\", accuracy)"
   ]
  },
  {
   "cell_type": "code",
   "execution_count": 12,
   "id": "9bca9775-4f2f-4d2e-bc14-2a4d66014d53",
   "metadata": {},
   "outputs": [
    {
     "name": "stdout",
     "output_type": "stream",
     "text": [
      "mao: Direita, dedos: 5\n"
     ]
    },
    {
     "name": "stderr",
     "output_type": "stream",
     "text": [
      "C:\\Users\\mauro\\Desktop\\Cursos\\Atlantico Bootcamp - Machine Learning\\avanti-ml-equipe-6\\venv\\lib\\site-packages\\sklearn\\base.py:493: UserWarning: X does not have valid feature names, but RandomForestClassifier was fitted with feature names\n",
      "  warnings.warn(\n"
     ]
    }
   ],
   "source": [
    "#input = [0.4409681227863046,-0.15037142800713454,1.6871514920017714,0.5405392614227955,0.553504059528156,24.731013035526484]\n",
    "input = [0.3900642368384304, 0.0964737751825869, 1.3258176636680326, 0.49802775228195956, 0.5780498826891358, 49.745486907031996]\n",
    "resp = model.predict([input])\n",
    "\n",
    "print( HAND_MAP[ resp[0] ] )"
   ]
  },
  {
   "cell_type": "code",
   "execution_count": null,
   "id": "0e976263-aaf7-4ca2-9267-706184de5550",
   "metadata": {},
   "outputs": [],
   "source": []
  }
 ],
 "metadata": {
  "kernelspec": {
   "display_name": "Python 3 (ipykernel)",
   "language": "python",
   "name": "python3"
  },
  "language_info": {
   "codemirror_mode": {
    "name": "ipython",
    "version": 3
   },
   "file_extension": ".py",
   "mimetype": "text/x-python",
   "name": "python",
   "nbconvert_exporter": "python",
   "pygments_lexer": "ipython3",
   "version": "3.10.5"
  }
 },
 "nbformat": 4,
 "nbformat_minor": 5
}
